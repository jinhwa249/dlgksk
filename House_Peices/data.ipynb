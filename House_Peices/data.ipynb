{
 "cells": [
  {
   "cell_type": "code",
   "execution_count": 55,
   "metadata": {},
   "outputs": [],
   "source": [
    "%matplotlib inline\n",
    "import matplotlib.pyplot as plt\n",
    "import numpy as np\n",
    "import pandas as pd\n",
    "import seaborn as sns\n",
    "import random\n",
    "\n",
    "plt.style.use(style='ggplot')\n",
    "np.random.seed(1234)\n",
    "random.seed(1234)"
   ]
  },
  {
   "cell_type": "code",
   "execution_count": 56,
   "metadata": {},
   "outputs": [],
   "source": [
    "train_df = pd.read_csv(\"./data/train.csv\")\n",
    "test_df = pd.read_csv(\"./data/test.csv\")\n",
    "submission = pd.read_csv(\"./data/sample_submission.csv\")"
   ]
  },
  {
   "cell_type": "code",
   "execution_count": 57,
   "metadata": {},
   "outputs": [
    {
     "data": {
      "text/html": [
       "<div>\n",
       "<style scoped>\n",
       "    .dataframe tbody tr th:only-of-type {\n",
       "        vertical-align: middle;\n",
       "    }\n",
       "\n",
       "    .dataframe tbody tr th {\n",
       "        vertical-align: top;\n",
       "    }\n",
       "\n",
       "    .dataframe thead th {\n",
       "        text-align: right;\n",
       "    }\n",
       "</style>\n",
       "<table border=\"1\" class=\"dataframe\">\n",
       "  <thead>\n",
       "    <tr style=\"text-align: right;\">\n",
       "      <th></th>\n",
       "      <th>Id</th>\n",
       "      <th>MSSubClass</th>\n",
       "      <th>MSZoning</th>\n",
       "      <th>LotFrontage</th>\n",
       "      <th>LotArea</th>\n",
       "      <th>Street</th>\n",
       "      <th>Alley</th>\n",
       "      <th>LotShape</th>\n",
       "      <th>LandContour</th>\n",
       "      <th>Utilities</th>\n",
       "      <th>...</th>\n",
       "      <th>PoolArea</th>\n",
       "      <th>PoolQC</th>\n",
       "      <th>Fence</th>\n",
       "      <th>MiscFeature</th>\n",
       "      <th>MiscVal</th>\n",
       "      <th>MoSold</th>\n",
       "      <th>YrSold</th>\n",
       "      <th>SaleType</th>\n",
       "      <th>SaleCondition</th>\n",
       "      <th>SalePrice</th>\n",
       "    </tr>\n",
       "  </thead>\n",
       "  <tbody>\n",
       "    <tr>\n",
       "      <th>0</th>\n",
       "      <td>1</td>\n",
       "      <td>60</td>\n",
       "      <td>RL</td>\n",
       "      <td>65.0</td>\n",
       "      <td>8450</td>\n",
       "      <td>Pave</td>\n",
       "      <td>NaN</td>\n",
       "      <td>Reg</td>\n",
       "      <td>Lvl</td>\n",
       "      <td>AllPub</td>\n",
       "      <td>...</td>\n",
       "      <td>0</td>\n",
       "      <td>NaN</td>\n",
       "      <td>NaN</td>\n",
       "      <td>NaN</td>\n",
       "      <td>0</td>\n",
       "      <td>2</td>\n",
       "      <td>2008</td>\n",
       "      <td>WD</td>\n",
       "      <td>Normal</td>\n",
       "      <td>208500</td>\n",
       "    </tr>\n",
       "    <tr>\n",
       "      <th>1</th>\n",
       "      <td>2</td>\n",
       "      <td>20</td>\n",
       "      <td>RL</td>\n",
       "      <td>80.0</td>\n",
       "      <td>9600</td>\n",
       "      <td>Pave</td>\n",
       "      <td>NaN</td>\n",
       "      <td>Reg</td>\n",
       "      <td>Lvl</td>\n",
       "      <td>AllPub</td>\n",
       "      <td>...</td>\n",
       "      <td>0</td>\n",
       "      <td>NaN</td>\n",
       "      <td>NaN</td>\n",
       "      <td>NaN</td>\n",
       "      <td>0</td>\n",
       "      <td>5</td>\n",
       "      <td>2007</td>\n",
       "      <td>WD</td>\n",
       "      <td>Normal</td>\n",
       "      <td>181500</td>\n",
       "    </tr>\n",
       "    <tr>\n",
       "      <th>2</th>\n",
       "      <td>3</td>\n",
       "      <td>60</td>\n",
       "      <td>RL</td>\n",
       "      <td>68.0</td>\n",
       "      <td>11250</td>\n",
       "      <td>Pave</td>\n",
       "      <td>NaN</td>\n",
       "      <td>IR1</td>\n",
       "      <td>Lvl</td>\n",
       "      <td>AllPub</td>\n",
       "      <td>...</td>\n",
       "      <td>0</td>\n",
       "      <td>NaN</td>\n",
       "      <td>NaN</td>\n",
       "      <td>NaN</td>\n",
       "      <td>0</td>\n",
       "      <td>9</td>\n",
       "      <td>2008</td>\n",
       "      <td>WD</td>\n",
       "      <td>Normal</td>\n",
       "      <td>223500</td>\n",
       "    </tr>\n",
       "    <tr>\n",
       "      <th>3</th>\n",
       "      <td>4</td>\n",
       "      <td>70</td>\n",
       "      <td>RL</td>\n",
       "      <td>60.0</td>\n",
       "      <td>9550</td>\n",
       "      <td>Pave</td>\n",
       "      <td>NaN</td>\n",
       "      <td>IR1</td>\n",
       "      <td>Lvl</td>\n",
       "      <td>AllPub</td>\n",
       "      <td>...</td>\n",
       "      <td>0</td>\n",
       "      <td>NaN</td>\n",
       "      <td>NaN</td>\n",
       "      <td>NaN</td>\n",
       "      <td>0</td>\n",
       "      <td>2</td>\n",
       "      <td>2006</td>\n",
       "      <td>WD</td>\n",
       "      <td>Abnorml</td>\n",
       "      <td>140000</td>\n",
       "    </tr>\n",
       "    <tr>\n",
       "      <th>4</th>\n",
       "      <td>5</td>\n",
       "      <td>60</td>\n",
       "      <td>RL</td>\n",
       "      <td>84.0</td>\n",
       "      <td>14260</td>\n",
       "      <td>Pave</td>\n",
       "      <td>NaN</td>\n",
       "      <td>IR1</td>\n",
       "      <td>Lvl</td>\n",
       "      <td>AllPub</td>\n",
       "      <td>...</td>\n",
       "      <td>0</td>\n",
       "      <td>NaN</td>\n",
       "      <td>NaN</td>\n",
       "      <td>NaN</td>\n",
       "      <td>0</td>\n",
       "      <td>12</td>\n",
       "      <td>2008</td>\n",
       "      <td>WD</td>\n",
       "      <td>Normal</td>\n",
       "      <td>250000</td>\n",
       "    </tr>\n",
       "  </tbody>\n",
       "</table>\n",
       "<p>5 rows × 81 columns</p>\n",
       "</div>"
      ],
      "text/plain": [
       "   Id  MSSubClass MSZoning  LotFrontage  LotArea Street Alley LotShape  \\\n",
       "0   1          60       RL         65.0     8450   Pave   NaN      Reg   \n",
       "1   2          20       RL         80.0     9600   Pave   NaN      Reg   \n",
       "2   3          60       RL         68.0    11250   Pave   NaN      IR1   \n",
       "3   4          70       RL         60.0     9550   Pave   NaN      IR1   \n",
       "4   5          60       RL         84.0    14260   Pave   NaN      IR1   \n",
       "\n",
       "  LandContour Utilities  ... PoolArea PoolQC Fence MiscFeature MiscVal MoSold  \\\n",
       "0         Lvl    AllPub  ...        0    NaN   NaN         NaN       0      2   \n",
       "1         Lvl    AllPub  ...        0    NaN   NaN         NaN       0      5   \n",
       "2         Lvl    AllPub  ...        0    NaN   NaN         NaN       0      9   \n",
       "3         Lvl    AllPub  ...        0    NaN   NaN         NaN       0      2   \n",
       "4         Lvl    AllPub  ...        0    NaN   NaN         NaN       0     12   \n",
       "\n",
       "  YrSold  SaleType  SaleCondition  SalePrice  \n",
       "0   2008        WD         Normal     208500  \n",
       "1   2007        WD         Normal     181500  \n",
       "2   2008        WD         Normal     223500  \n",
       "3   2006        WD        Abnorml     140000  \n",
       "4   2008        WD         Normal     250000  \n",
       "\n",
       "[5 rows x 81 columns]"
      ]
     },
     "execution_count": 57,
     "metadata": {},
     "output_type": "execute_result"
    }
   ],
   "source": [
    "train_df.head()"
   ]
  },
  {
   "cell_type": "code",
   "execution_count": 58,
   "metadata": {},
   "outputs": [
    {
     "data": {
      "text/html": [
       "<div>\n",
       "<style scoped>\n",
       "    .dataframe tbody tr th:only-of-type {\n",
       "        vertical-align: middle;\n",
       "    }\n",
       "\n",
       "    .dataframe tbody tr th {\n",
       "        vertical-align: top;\n",
       "    }\n",
       "\n",
       "    .dataframe thead th {\n",
       "        text-align: right;\n",
       "    }\n",
       "</style>\n",
       "<table border=\"1\" class=\"dataframe\">\n",
       "  <thead>\n",
       "    <tr style=\"text-align: right;\">\n",
       "      <th></th>\n",
       "      <th>Id</th>\n",
       "      <th>MSSubClass</th>\n",
       "      <th>MSZoning</th>\n",
       "      <th>LotFrontage</th>\n",
       "      <th>LotArea</th>\n",
       "      <th>Street</th>\n",
       "      <th>Alley</th>\n",
       "      <th>LotShape</th>\n",
       "      <th>LandContour</th>\n",
       "      <th>Utilities</th>\n",
       "      <th>...</th>\n",
       "      <th>ScreenPorch</th>\n",
       "      <th>PoolArea</th>\n",
       "      <th>PoolQC</th>\n",
       "      <th>Fence</th>\n",
       "      <th>MiscFeature</th>\n",
       "      <th>MiscVal</th>\n",
       "      <th>MoSold</th>\n",
       "      <th>YrSold</th>\n",
       "      <th>SaleType</th>\n",
       "      <th>SaleCondition</th>\n",
       "    </tr>\n",
       "  </thead>\n",
       "  <tbody>\n",
       "    <tr>\n",
       "      <th>0</th>\n",
       "      <td>1461</td>\n",
       "      <td>20</td>\n",
       "      <td>RH</td>\n",
       "      <td>80.0</td>\n",
       "      <td>11622</td>\n",
       "      <td>Pave</td>\n",
       "      <td>NaN</td>\n",
       "      <td>Reg</td>\n",
       "      <td>Lvl</td>\n",
       "      <td>AllPub</td>\n",
       "      <td>...</td>\n",
       "      <td>120</td>\n",
       "      <td>0</td>\n",
       "      <td>NaN</td>\n",
       "      <td>MnPrv</td>\n",
       "      <td>NaN</td>\n",
       "      <td>0</td>\n",
       "      <td>6</td>\n",
       "      <td>2010</td>\n",
       "      <td>WD</td>\n",
       "      <td>Normal</td>\n",
       "    </tr>\n",
       "    <tr>\n",
       "      <th>1</th>\n",
       "      <td>1462</td>\n",
       "      <td>20</td>\n",
       "      <td>RL</td>\n",
       "      <td>81.0</td>\n",
       "      <td>14267</td>\n",
       "      <td>Pave</td>\n",
       "      <td>NaN</td>\n",
       "      <td>IR1</td>\n",
       "      <td>Lvl</td>\n",
       "      <td>AllPub</td>\n",
       "      <td>...</td>\n",
       "      <td>0</td>\n",
       "      <td>0</td>\n",
       "      <td>NaN</td>\n",
       "      <td>NaN</td>\n",
       "      <td>Gar2</td>\n",
       "      <td>12500</td>\n",
       "      <td>6</td>\n",
       "      <td>2010</td>\n",
       "      <td>WD</td>\n",
       "      <td>Normal</td>\n",
       "    </tr>\n",
       "    <tr>\n",
       "      <th>2</th>\n",
       "      <td>1463</td>\n",
       "      <td>60</td>\n",
       "      <td>RL</td>\n",
       "      <td>74.0</td>\n",
       "      <td>13830</td>\n",
       "      <td>Pave</td>\n",
       "      <td>NaN</td>\n",
       "      <td>IR1</td>\n",
       "      <td>Lvl</td>\n",
       "      <td>AllPub</td>\n",
       "      <td>...</td>\n",
       "      <td>0</td>\n",
       "      <td>0</td>\n",
       "      <td>NaN</td>\n",
       "      <td>MnPrv</td>\n",
       "      <td>NaN</td>\n",
       "      <td>0</td>\n",
       "      <td>3</td>\n",
       "      <td>2010</td>\n",
       "      <td>WD</td>\n",
       "      <td>Normal</td>\n",
       "    </tr>\n",
       "    <tr>\n",
       "      <th>3</th>\n",
       "      <td>1464</td>\n",
       "      <td>60</td>\n",
       "      <td>RL</td>\n",
       "      <td>78.0</td>\n",
       "      <td>9978</td>\n",
       "      <td>Pave</td>\n",
       "      <td>NaN</td>\n",
       "      <td>IR1</td>\n",
       "      <td>Lvl</td>\n",
       "      <td>AllPub</td>\n",
       "      <td>...</td>\n",
       "      <td>0</td>\n",
       "      <td>0</td>\n",
       "      <td>NaN</td>\n",
       "      <td>NaN</td>\n",
       "      <td>NaN</td>\n",
       "      <td>0</td>\n",
       "      <td>6</td>\n",
       "      <td>2010</td>\n",
       "      <td>WD</td>\n",
       "      <td>Normal</td>\n",
       "    </tr>\n",
       "    <tr>\n",
       "      <th>4</th>\n",
       "      <td>1465</td>\n",
       "      <td>120</td>\n",
       "      <td>RL</td>\n",
       "      <td>43.0</td>\n",
       "      <td>5005</td>\n",
       "      <td>Pave</td>\n",
       "      <td>NaN</td>\n",
       "      <td>IR1</td>\n",
       "      <td>HLS</td>\n",
       "      <td>AllPub</td>\n",
       "      <td>...</td>\n",
       "      <td>144</td>\n",
       "      <td>0</td>\n",
       "      <td>NaN</td>\n",
       "      <td>NaN</td>\n",
       "      <td>NaN</td>\n",
       "      <td>0</td>\n",
       "      <td>1</td>\n",
       "      <td>2010</td>\n",
       "      <td>WD</td>\n",
       "      <td>Normal</td>\n",
       "    </tr>\n",
       "  </tbody>\n",
       "</table>\n",
       "<p>5 rows × 80 columns</p>\n",
       "</div>"
      ],
      "text/plain": [
       "     Id  MSSubClass MSZoning  LotFrontage  LotArea Street Alley LotShape  \\\n",
       "0  1461          20       RH         80.0    11622   Pave   NaN      Reg   \n",
       "1  1462          20       RL         81.0    14267   Pave   NaN      IR1   \n",
       "2  1463          60       RL         74.0    13830   Pave   NaN      IR1   \n",
       "3  1464          60       RL         78.0     9978   Pave   NaN      IR1   \n",
       "4  1465         120       RL         43.0     5005   Pave   NaN      IR1   \n",
       "\n",
       "  LandContour Utilities  ... ScreenPorch PoolArea PoolQC  Fence MiscFeature  \\\n",
       "0         Lvl    AllPub  ...         120        0    NaN  MnPrv         NaN   \n",
       "1         Lvl    AllPub  ...           0        0    NaN    NaN        Gar2   \n",
       "2         Lvl    AllPub  ...           0        0    NaN  MnPrv         NaN   \n",
       "3         Lvl    AllPub  ...           0        0    NaN    NaN         NaN   \n",
       "4         HLS    AllPub  ...         144        0    NaN    NaN         NaN   \n",
       "\n",
       "  MiscVal MoSold  YrSold  SaleType  SaleCondition  \n",
       "0       0      6    2010        WD         Normal  \n",
       "1   12500      6    2010        WD         Normal  \n",
       "2       0      3    2010        WD         Normal  \n",
       "3       0      6    2010        WD         Normal  \n",
       "4       0      1    2010        WD         Normal  \n",
       "\n",
       "[5 rows x 80 columns]"
      ]
     },
     "execution_count": 58,
     "metadata": {},
     "output_type": "execute_result"
    }
   ],
   "source": [
    "test_df.head()"
   ]
  },
  {
   "cell_type": "code",
   "execution_count": 59,
   "metadata": {},
   "outputs": [
    {
     "data": {
      "text/html": [
       "<div>\n",
       "<style scoped>\n",
       "    .dataframe tbody tr th:only-of-type {\n",
       "        vertical-align: middle;\n",
       "    }\n",
       "\n",
       "    .dataframe tbody tr th {\n",
       "        vertical-align: top;\n",
       "    }\n",
       "\n",
       "    .dataframe thead th {\n",
       "        text-align: right;\n",
       "    }\n",
       "</style>\n",
       "<table border=\"1\" class=\"dataframe\">\n",
       "  <thead>\n",
       "    <tr style=\"text-align: right;\">\n",
       "      <th></th>\n",
       "      <th>Id</th>\n",
       "      <th>SalePrice</th>\n",
       "    </tr>\n",
       "  </thead>\n",
       "  <tbody>\n",
       "    <tr>\n",
       "      <th>0</th>\n",
       "      <td>1461</td>\n",
       "      <td>169277.052498</td>\n",
       "    </tr>\n",
       "    <tr>\n",
       "      <th>1</th>\n",
       "      <td>1462</td>\n",
       "      <td>187758.393989</td>\n",
       "    </tr>\n",
       "    <tr>\n",
       "      <th>2</th>\n",
       "      <td>1463</td>\n",
       "      <td>183583.683570</td>\n",
       "    </tr>\n",
       "    <tr>\n",
       "      <th>3</th>\n",
       "      <td>1464</td>\n",
       "      <td>179317.477511</td>\n",
       "    </tr>\n",
       "    <tr>\n",
       "      <th>4</th>\n",
       "      <td>1465</td>\n",
       "      <td>150730.079977</td>\n",
       "    </tr>\n",
       "  </tbody>\n",
       "</table>\n",
       "</div>"
      ],
      "text/plain": [
       "     Id      SalePrice\n",
       "0  1461  169277.052498\n",
       "1  1462  187758.393989\n",
       "2  1463  183583.683570\n",
       "3  1464  179317.477511\n",
       "4  1465  150730.079977"
      ]
     },
     "execution_count": 59,
     "metadata": {},
     "output_type": "execute_result"
    }
   ],
   "source": [
    "submission.head()"
   ]
  },
  {
   "cell_type": "code",
   "execution_count": 60,
   "metadata": {},
   "outputs": [
    {
     "data": {
      "text/plain": [
       "Id                 int64\n",
       "MSSubClass         int64\n",
       "MSZoning          object\n",
       "LotFrontage      float64\n",
       "LotArea            int64\n",
       "                  ...   \n",
       "MoSold             int64\n",
       "YrSold             int64\n",
       "SaleType          object\n",
       "SaleCondition     object\n",
       "SalePrice          int64\n",
       "Length: 81, dtype: object"
      ]
     },
     "execution_count": 60,
     "metadata": {},
     "output_type": "execute_result"
    }
   ],
   "source": [
    "train_df.dtypes"
   ]
  },
  {
   "cell_type": "code",
   "execution_count": 61,
   "metadata": {},
   "outputs": [
    {
     "data": {
      "text/plain": [
       "RL         1151\n",
       "RM          218\n",
       "FV           65\n",
       "RH           16\n",
       "C (all)      10\n",
       "Name: MSZoning, dtype: int64"
      ]
     },
     "execution_count": 61,
     "metadata": {},
     "output_type": "execute_result"
    }
   ],
   "source": [
    "train_df[\"MSZoning\"].value_counts()"
   ]
  },
  {
   "cell_type": "code",
   "execution_count": 62,
   "metadata": {},
   "outputs": [],
   "source": [
    "all_df = pd.concat([train_df, test_df], axis=0, sort=False).reset_index(drop=True)"
   ]
  },
  {
   "cell_type": "code",
   "execution_count": 63,
   "metadata": {},
   "outputs": [
    {
     "data": {
      "text/html": [
       "<div>\n",
       "<style scoped>\n",
       "    .dataframe tbody tr th:only-of-type {\n",
       "        vertical-align: middle;\n",
       "    }\n",
       "\n",
       "    .dataframe tbody tr th {\n",
       "        vertical-align: top;\n",
       "    }\n",
       "\n",
       "    .dataframe thead th {\n",
       "        text-align: right;\n",
       "    }\n",
       "</style>\n",
       "<table border=\"1\" class=\"dataframe\">\n",
       "  <thead>\n",
       "    <tr style=\"text-align: right;\">\n",
       "      <th></th>\n",
       "      <th>Id</th>\n",
       "      <th>MSSubClass</th>\n",
       "      <th>MSZoning</th>\n",
       "      <th>LotFrontage</th>\n",
       "      <th>LotArea</th>\n",
       "      <th>Street</th>\n",
       "      <th>Alley</th>\n",
       "      <th>LotShape</th>\n",
       "      <th>LandContour</th>\n",
       "      <th>Utilities</th>\n",
       "      <th>...</th>\n",
       "      <th>PoolArea</th>\n",
       "      <th>PoolQC</th>\n",
       "      <th>Fence</th>\n",
       "      <th>MiscFeature</th>\n",
       "      <th>MiscVal</th>\n",
       "      <th>MoSold</th>\n",
       "      <th>YrSold</th>\n",
       "      <th>SaleType</th>\n",
       "      <th>SaleCondition</th>\n",
       "      <th>SalePrice</th>\n",
       "    </tr>\n",
       "  </thead>\n",
       "  <tbody>\n",
       "    <tr>\n",
       "      <th>0</th>\n",
       "      <td>1</td>\n",
       "      <td>60</td>\n",
       "      <td>RL</td>\n",
       "      <td>65.0</td>\n",
       "      <td>8450</td>\n",
       "      <td>Pave</td>\n",
       "      <td>NaN</td>\n",
       "      <td>Reg</td>\n",
       "      <td>Lvl</td>\n",
       "      <td>AllPub</td>\n",
       "      <td>...</td>\n",
       "      <td>0</td>\n",
       "      <td>NaN</td>\n",
       "      <td>NaN</td>\n",
       "      <td>NaN</td>\n",
       "      <td>0</td>\n",
       "      <td>2</td>\n",
       "      <td>2008</td>\n",
       "      <td>WD</td>\n",
       "      <td>Normal</td>\n",
       "      <td>208500.0</td>\n",
       "    </tr>\n",
       "    <tr>\n",
       "      <th>1</th>\n",
       "      <td>2</td>\n",
       "      <td>20</td>\n",
       "      <td>RL</td>\n",
       "      <td>80.0</td>\n",
       "      <td>9600</td>\n",
       "      <td>Pave</td>\n",
       "      <td>NaN</td>\n",
       "      <td>Reg</td>\n",
       "      <td>Lvl</td>\n",
       "      <td>AllPub</td>\n",
       "      <td>...</td>\n",
       "      <td>0</td>\n",
       "      <td>NaN</td>\n",
       "      <td>NaN</td>\n",
       "      <td>NaN</td>\n",
       "      <td>0</td>\n",
       "      <td>5</td>\n",
       "      <td>2007</td>\n",
       "      <td>WD</td>\n",
       "      <td>Normal</td>\n",
       "      <td>181500.0</td>\n",
       "    </tr>\n",
       "    <tr>\n",
       "      <th>2</th>\n",
       "      <td>3</td>\n",
       "      <td>60</td>\n",
       "      <td>RL</td>\n",
       "      <td>68.0</td>\n",
       "      <td>11250</td>\n",
       "      <td>Pave</td>\n",
       "      <td>NaN</td>\n",
       "      <td>IR1</td>\n",
       "      <td>Lvl</td>\n",
       "      <td>AllPub</td>\n",
       "      <td>...</td>\n",
       "      <td>0</td>\n",
       "      <td>NaN</td>\n",
       "      <td>NaN</td>\n",
       "      <td>NaN</td>\n",
       "      <td>0</td>\n",
       "      <td>9</td>\n",
       "      <td>2008</td>\n",
       "      <td>WD</td>\n",
       "      <td>Normal</td>\n",
       "      <td>223500.0</td>\n",
       "    </tr>\n",
       "    <tr>\n",
       "      <th>3</th>\n",
       "      <td>4</td>\n",
       "      <td>70</td>\n",
       "      <td>RL</td>\n",
       "      <td>60.0</td>\n",
       "      <td>9550</td>\n",
       "      <td>Pave</td>\n",
       "      <td>NaN</td>\n",
       "      <td>IR1</td>\n",
       "      <td>Lvl</td>\n",
       "      <td>AllPub</td>\n",
       "      <td>...</td>\n",
       "      <td>0</td>\n",
       "      <td>NaN</td>\n",
       "      <td>NaN</td>\n",
       "      <td>NaN</td>\n",
       "      <td>0</td>\n",
       "      <td>2</td>\n",
       "      <td>2006</td>\n",
       "      <td>WD</td>\n",
       "      <td>Abnorml</td>\n",
       "      <td>140000.0</td>\n",
       "    </tr>\n",
       "    <tr>\n",
       "      <th>4</th>\n",
       "      <td>5</td>\n",
       "      <td>60</td>\n",
       "      <td>RL</td>\n",
       "      <td>84.0</td>\n",
       "      <td>14260</td>\n",
       "      <td>Pave</td>\n",
       "      <td>NaN</td>\n",
       "      <td>IR1</td>\n",
       "      <td>Lvl</td>\n",
       "      <td>AllPub</td>\n",
       "      <td>...</td>\n",
       "      <td>0</td>\n",
       "      <td>NaN</td>\n",
       "      <td>NaN</td>\n",
       "      <td>NaN</td>\n",
       "      <td>0</td>\n",
       "      <td>12</td>\n",
       "      <td>2008</td>\n",
       "      <td>WD</td>\n",
       "      <td>Normal</td>\n",
       "      <td>250000.0</td>\n",
       "    </tr>\n",
       "    <tr>\n",
       "      <th>...</th>\n",
       "      <td>...</td>\n",
       "      <td>...</td>\n",
       "      <td>...</td>\n",
       "      <td>...</td>\n",
       "      <td>...</td>\n",
       "      <td>...</td>\n",
       "      <td>...</td>\n",
       "      <td>...</td>\n",
       "      <td>...</td>\n",
       "      <td>...</td>\n",
       "      <td>...</td>\n",
       "      <td>...</td>\n",
       "      <td>...</td>\n",
       "      <td>...</td>\n",
       "      <td>...</td>\n",
       "      <td>...</td>\n",
       "      <td>...</td>\n",
       "      <td>...</td>\n",
       "      <td>...</td>\n",
       "      <td>...</td>\n",
       "      <td>...</td>\n",
       "    </tr>\n",
       "    <tr>\n",
       "      <th>2914</th>\n",
       "      <td>2915</td>\n",
       "      <td>160</td>\n",
       "      <td>RM</td>\n",
       "      <td>21.0</td>\n",
       "      <td>1936</td>\n",
       "      <td>Pave</td>\n",
       "      <td>NaN</td>\n",
       "      <td>Reg</td>\n",
       "      <td>Lvl</td>\n",
       "      <td>AllPub</td>\n",
       "      <td>...</td>\n",
       "      <td>0</td>\n",
       "      <td>NaN</td>\n",
       "      <td>NaN</td>\n",
       "      <td>NaN</td>\n",
       "      <td>0</td>\n",
       "      <td>6</td>\n",
       "      <td>2006</td>\n",
       "      <td>WD</td>\n",
       "      <td>Normal</td>\n",
       "      <td>NaN</td>\n",
       "    </tr>\n",
       "    <tr>\n",
       "      <th>2915</th>\n",
       "      <td>2916</td>\n",
       "      <td>160</td>\n",
       "      <td>RM</td>\n",
       "      <td>21.0</td>\n",
       "      <td>1894</td>\n",
       "      <td>Pave</td>\n",
       "      <td>NaN</td>\n",
       "      <td>Reg</td>\n",
       "      <td>Lvl</td>\n",
       "      <td>AllPub</td>\n",
       "      <td>...</td>\n",
       "      <td>0</td>\n",
       "      <td>NaN</td>\n",
       "      <td>NaN</td>\n",
       "      <td>NaN</td>\n",
       "      <td>0</td>\n",
       "      <td>4</td>\n",
       "      <td>2006</td>\n",
       "      <td>WD</td>\n",
       "      <td>Abnorml</td>\n",
       "      <td>NaN</td>\n",
       "    </tr>\n",
       "    <tr>\n",
       "      <th>2916</th>\n",
       "      <td>2917</td>\n",
       "      <td>20</td>\n",
       "      <td>RL</td>\n",
       "      <td>160.0</td>\n",
       "      <td>20000</td>\n",
       "      <td>Pave</td>\n",
       "      <td>NaN</td>\n",
       "      <td>Reg</td>\n",
       "      <td>Lvl</td>\n",
       "      <td>AllPub</td>\n",
       "      <td>...</td>\n",
       "      <td>0</td>\n",
       "      <td>NaN</td>\n",
       "      <td>NaN</td>\n",
       "      <td>NaN</td>\n",
       "      <td>0</td>\n",
       "      <td>9</td>\n",
       "      <td>2006</td>\n",
       "      <td>WD</td>\n",
       "      <td>Abnorml</td>\n",
       "      <td>NaN</td>\n",
       "    </tr>\n",
       "    <tr>\n",
       "      <th>2917</th>\n",
       "      <td>2918</td>\n",
       "      <td>85</td>\n",
       "      <td>RL</td>\n",
       "      <td>62.0</td>\n",
       "      <td>10441</td>\n",
       "      <td>Pave</td>\n",
       "      <td>NaN</td>\n",
       "      <td>Reg</td>\n",
       "      <td>Lvl</td>\n",
       "      <td>AllPub</td>\n",
       "      <td>...</td>\n",
       "      <td>0</td>\n",
       "      <td>NaN</td>\n",
       "      <td>MnPrv</td>\n",
       "      <td>Shed</td>\n",
       "      <td>700</td>\n",
       "      <td>7</td>\n",
       "      <td>2006</td>\n",
       "      <td>WD</td>\n",
       "      <td>Normal</td>\n",
       "      <td>NaN</td>\n",
       "    </tr>\n",
       "    <tr>\n",
       "      <th>2918</th>\n",
       "      <td>2919</td>\n",
       "      <td>60</td>\n",
       "      <td>RL</td>\n",
       "      <td>74.0</td>\n",
       "      <td>9627</td>\n",
       "      <td>Pave</td>\n",
       "      <td>NaN</td>\n",
       "      <td>Reg</td>\n",
       "      <td>Lvl</td>\n",
       "      <td>AllPub</td>\n",
       "      <td>...</td>\n",
       "      <td>0</td>\n",
       "      <td>NaN</td>\n",
       "      <td>NaN</td>\n",
       "      <td>NaN</td>\n",
       "      <td>0</td>\n",
       "      <td>11</td>\n",
       "      <td>2006</td>\n",
       "      <td>WD</td>\n",
       "      <td>Normal</td>\n",
       "      <td>NaN</td>\n",
       "    </tr>\n",
       "  </tbody>\n",
       "</table>\n",
       "<p>2919 rows × 81 columns</p>\n",
       "</div>"
      ],
      "text/plain": [
       "        Id  MSSubClass MSZoning  LotFrontage  LotArea Street Alley LotShape  \\\n",
       "0        1          60       RL         65.0     8450   Pave   NaN      Reg   \n",
       "1        2          20       RL         80.0     9600   Pave   NaN      Reg   \n",
       "2        3          60       RL         68.0    11250   Pave   NaN      IR1   \n",
       "3        4          70       RL         60.0     9550   Pave   NaN      IR1   \n",
       "4        5          60       RL         84.0    14260   Pave   NaN      IR1   \n",
       "...    ...         ...      ...          ...      ...    ...   ...      ...   \n",
       "2914  2915         160       RM         21.0     1936   Pave   NaN      Reg   \n",
       "2915  2916         160       RM         21.0     1894   Pave   NaN      Reg   \n",
       "2916  2917          20       RL        160.0    20000   Pave   NaN      Reg   \n",
       "2917  2918          85       RL         62.0    10441   Pave   NaN      Reg   \n",
       "2918  2919          60       RL         74.0     9627   Pave   NaN      Reg   \n",
       "\n",
       "     LandContour Utilities  ... PoolArea PoolQC  Fence MiscFeature MiscVal  \\\n",
       "0            Lvl    AllPub  ...        0    NaN    NaN         NaN       0   \n",
       "1            Lvl    AllPub  ...        0    NaN    NaN         NaN       0   \n",
       "2            Lvl    AllPub  ...        0    NaN    NaN         NaN       0   \n",
       "3            Lvl    AllPub  ...        0    NaN    NaN         NaN       0   \n",
       "4            Lvl    AllPub  ...        0    NaN    NaN         NaN       0   \n",
       "...          ...       ...  ...      ...    ...    ...         ...     ...   \n",
       "2914         Lvl    AllPub  ...        0    NaN    NaN         NaN       0   \n",
       "2915         Lvl    AllPub  ...        0    NaN    NaN         NaN       0   \n",
       "2916         Lvl    AllPub  ...        0    NaN    NaN         NaN       0   \n",
       "2917         Lvl    AllPub  ...        0    NaN  MnPrv        Shed     700   \n",
       "2918         Lvl    AllPub  ...        0    NaN    NaN         NaN       0   \n",
       "\n",
       "     MoSold YrSold  SaleType  SaleCondition  SalePrice  \n",
       "0         2   2008        WD         Normal   208500.0  \n",
       "1         5   2007        WD         Normal   181500.0  \n",
       "2         9   2008        WD         Normal   223500.0  \n",
       "3         2   2006        WD        Abnorml   140000.0  \n",
       "4        12   2008        WD         Normal   250000.0  \n",
       "...     ...    ...       ...            ...        ...  \n",
       "2914      6   2006        WD         Normal        NaN  \n",
       "2915      4   2006        WD        Abnorml        NaN  \n",
       "2916      9   2006        WD        Abnorml        NaN  \n",
       "2917      7   2006        WD         Normal        NaN  \n",
       "2918     11   2006        WD         Normal        NaN  \n",
       "\n",
       "[2919 rows x 81 columns]"
      ]
     },
     "execution_count": 63,
     "metadata": {},
     "output_type": "execute_result"
    }
   ],
   "source": [
    "all_df"
   ]
  },
  {
   "cell_type": "code",
   "execution_count": 64,
   "metadata": {},
   "outputs": [
    {
     "data": {
      "text/plain": [
       "0       208500.0\n",
       "1       181500.0\n",
       "2       223500.0\n",
       "3       140000.0\n",
       "4       250000.0\n",
       "          ...   \n",
       "2914         NaN\n",
       "2915         NaN\n",
       "2916         NaN\n",
       "2917         NaN\n",
       "2918         NaN\n",
       "Name: SalePrice, Length: 2919, dtype: float64"
      ]
     },
     "execution_count": 64,
     "metadata": {},
     "output_type": "execute_result"
    }
   ],
   "source": [
    "all_df[\"SalePrice\"]"
   ]
  },
  {
   "cell_type": "code",
   "execution_count": 65,
   "metadata": {},
   "outputs": [
    {
     "data": {
      "text/plain": [
       "count      1460.000000\n",
       "mean     180921.195890\n",
       "std       79442.502883\n",
       "min       34900.000000\n",
       "25%      129975.000000\n",
       "50%      163000.000000\n",
       "75%      214000.000000\n",
       "max      755000.000000\n",
       "Name: SalePrice, dtype: float64"
      ]
     },
     "execution_count": 65,
     "metadata": {},
     "output_type": "execute_result"
    }
   ],
   "source": [
    "all_df[\"SalePrice\"].describe()"
   ]
  },
  {
   "cell_type": "code",
   "execution_count": 66,
   "metadata": {},
   "outputs": [
    {
     "name": "stdout",
     "output_type": "stream",
     "text": [
      "Index(['MSZoning', 'Street', 'Alley', 'LotShape', 'LandContour', 'Utilities',\n",
      "       'LotConfig', 'LandSlope', 'Neighborhood', 'Condition1', 'Condition2',\n",
      "       'BldgType', 'HouseStyle', 'RoofStyle', 'RoofMatl', 'Exterior1st',\n",
      "       'Exterior2nd', 'MasVnrType', 'ExterQual', 'ExterCond', 'Foundation',\n",
      "       'BsmtQual', 'BsmtCond', 'BsmtExposure', 'BsmtFinType1', 'BsmtFinType2',\n",
      "       'Heating', 'HeatingQC', 'CentralAir', 'Electrical', 'KitchenQual',\n",
      "       'Functional', 'FireplaceQu', 'GarageType', 'GarageFinish', 'GarageQual',\n",
      "       'GarageCond', 'PavedDrive', 'PoolQC', 'Fence', 'MiscFeature',\n",
      "       'SaleType', 'SaleCondition'],\n",
      "      dtype='object')\n",
      "43\n"
     ]
    }
   ],
   "source": [
    "\n",
    "from sklearn.preprocessing import LabelEncoder\n",
    "\n",
    "categories = all_df.columns[all_df.dtypes == \"object\"]\n",
    "print(categories)\n",
    "print(len(categories))"
   ]
  },
  {
   "cell_type": "code",
   "execution_count": 67,
   "metadata": {},
   "outputs": [
    {
     "data": {
      "text/plain": [
       "Grvl    120\n",
       "Pave     78\n",
       "Name: Alley, dtype: int64"
      ]
     },
     "execution_count": 67,
     "metadata": {},
     "output_type": "execute_result"
    }
   ],
   "source": [
    "all_df[\"Alley\"].value_counts()"
   ]
  },
  {
   "cell_type": "code",
   "execution_count": 68,
   "metadata": {},
   "outputs": [],
   "source": [
    "for cat in categories:\n",
    "    le = LabelEncoder()\n",
    "    all_df[cat].fillna(\"missing\", inplace=True)\n",
    "    le = le.fit(all_df[cat])\n",
    "    all_df[cat] = le.transform(all_df[cat])\n",
    "    all_df[cat] = all_df[cat].astype(\"category\")"
   ]
  },
  {
   "cell_type": "code",
   "execution_count": 69,
   "metadata": {},
   "outputs": [
    {
     "data": {
      "text/plain": [
       "LotFrontage      486\n",
       "MasVnrArea        23\n",
       "BsmtFinSF1         1\n",
       "BsmtFinSF2         1\n",
       "BsmtUnfSF          1\n",
       "TotalBsmtSF        1\n",
       "BsmtFullBath       2\n",
       "BsmtHalfBath       2\n",
       "GarageYrBlt      159\n",
       "GarageCars         1\n",
       "GarageArea         1\n",
       "SalePrice       1459\n",
       "dtype: int64"
      ]
     },
     "execution_count": 69,
     "metadata": {},
     "output_type": "execute_result"
    }
   ],
   "source": [
    "all_df.isnull().sum()[all_df.isnull().sum() != 0]"
   ]
  },
  {
   "cell_type": "code",
   "execution_count": null,
   "metadata": {},
   "outputs": [],
   "source": []
  },
  {
   "cell_type": "code",
   "execution_count": 70,
   "metadata": {},
   "outputs": [
    {
     "data": {
      "text/plain": [
       "0       208500.0\n",
       "1       181500.0\n",
       "2       223500.0\n",
       "3       140000.0\n",
       "4       250000.0\n",
       "          ...   \n",
       "2914         NaN\n",
       "2915         NaN\n",
       "2916         NaN\n",
       "2917         NaN\n",
       "2918         NaN\n",
       "Name: SalePrice, Length: 2919, dtype: float64"
      ]
     },
     "execution_count": 70,
     "metadata": {},
     "output_type": "execute_result"
    }
   ],
   "source": [
    "all_df[\"SalePrice\"]"
   ]
  },
  {
   "cell_type": "code",
   "execution_count": 71,
   "metadata": {},
   "outputs": [],
   "source": [
    "train_df_le = all_df[~all_df[\"SalePrice\"].isnull()]\n",
    "test_df_le = all_df[all_df[\"SalePrice\"].isnull()]"
   ]
  },
  {
   "cell_type": "code",
   "execution_count": 74,
   "metadata": {},
   "outputs": [],
   "source": [
    "import lightgbm as lgb"
   ]
  },
  {
   "cell_type": "code",
   "execution_count": 73,
   "metadata": {},
   "outputs": [],
   "source": [
    "from sklearn.model_selection import KFold\n",
    "\n",
    "folds = 3\n",
    "kf = KFold(n_splits=folds)"
   ]
  },
  {
   "cell_type": "code",
   "execution_count": 75,
   "metadata": {},
   "outputs": [],
   "source": [
    "lgbm_params = {\"objective\": \"regression\", \"random_seed\": 1234}"
   ]
  },
  {
   "cell_type": "code",
   "execution_count": 76,
   "metadata": {},
   "outputs": [],
   "source": [
    "train_X = train_df_le.drop([\"SalePrice\", \"Id\"], axis=1)\n",
    "train_Y = train_df_le[\"SalePrice\"]"
   ]
  },
  {
   "cell_type": "code",
   "execution_count": 77,
   "metadata": {},
   "outputs": [
    {
     "data": {
      "text/plain": [
       "LotFrontage    259\n",
       "MasVnrArea       8\n",
       "GarageYrBlt     81\n",
       "dtype: int64"
      ]
     },
     "execution_count": 77,
     "metadata": {},
     "output_type": "execute_result"
    }
   ],
   "source": [
    "train_X.isna().sum()[train_X.isna().sum() != 0]"
   ]
  },
  {
   "cell_type": "code",
   "execution_count": 78,
   "metadata": {},
   "outputs": [
    {
     "data": {
      "text/plain": [
       "0"
      ]
     },
     "execution_count": 78,
     "metadata": {},
     "output_type": "execute_result"
    }
   ],
   "source": [
    "train_Y.isna().sum()"
   ]
  },
  {
   "cell_type": "code",
   "execution_count": 200,
   "metadata": {},
   "outputs": [],
   "source": [
    "from sklearn.metrics import mean_squared_error"
   ]
  },
  {
   "cell_type": "code",
   "execution_count": 205,
   "metadata": {},
   "outputs": [
    {
     "ename": "TypeError",
     "evalue": "train() got an unexpected keyword argument 'early_stopping_rounds'",
     "output_type": "error",
     "traceback": [
      "\u001b[1;31m---------------------------------------------------------------------------\u001b[0m",
      "\u001b[1;31mTypeError\u001b[0m                                 Traceback (most recent call last)",
      "\u001b[1;32mc:\\Users\\admin\\dlgksk\\House_Peices\\data.ipynb Cell 26\u001b[0m line \u001b[0;36m1\n\u001b[0;32m     <a href='vscode-notebook-cell:/c%3A/Users/admin/dlgksk/House_Peices/data.ipynb#Y150sZmlsZQ%3D%3D?line=10'>11</a>\u001b[0m lgb_train \u001b[39m=\u001b[39m lgb\u001b[39m.\u001b[39mDataset(X_train, y_train)\n\u001b[0;32m     <a href='vscode-notebook-cell:/c%3A/Users/admin/dlgksk/House_Peices/data.ipynb#Y150sZmlsZQ%3D%3D?line=11'>12</a>\u001b[0m lgb_eval \u001b[39m=\u001b[39m lgb\u001b[39m.\u001b[39mDataset(X_valid, y_valid, reference\u001b[39m=\u001b[39mlgb_train)\n\u001b[1;32m---> <a href='vscode-notebook-cell:/c%3A/Users/admin/dlgksk/House_Peices/data.ipynb#Y150sZmlsZQ%3D%3D?line=13'>14</a>\u001b[0m model_lgb \u001b[39m=\u001b[39m lgb\u001b[39m.\u001b[39mtrain(\n\u001b[0;32m     <a href='vscode-notebook-cell:/c%3A/Users/admin/dlgksk/House_Peices/data.ipynb#Y150sZmlsZQ%3D%3D?line=14'>15</a>\u001b[0m     lgbm_params,\n\u001b[0;32m     <a href='vscode-notebook-cell:/c%3A/Users/admin/dlgksk/House_Peices/data.ipynb#Y150sZmlsZQ%3D%3D?line=15'>16</a>\u001b[0m     lgb_train,\n\u001b[0;32m     <a href='vscode-notebook-cell:/c%3A/Users/admin/dlgksk/House_Peices/data.ipynb#Y150sZmlsZQ%3D%3D?line=16'>17</a>\u001b[0m     valid_sets\u001b[39m=\u001b[39mlgb_eval,\n\u001b[0;32m     <a href='vscode-notebook-cell:/c%3A/Users/admin/dlgksk/House_Peices/data.ipynb#Y150sZmlsZQ%3D%3D?line=17'>18</a>\u001b[0m     num_boost_round\u001b[39m=\u001b[39m\u001b[39m100\u001b[39m,\n\u001b[0;32m     <a href='vscode-notebook-cell:/c%3A/Users/admin/dlgksk/House_Peices/data.ipynb#Y150sZmlsZQ%3D%3D?line=18'>19</a>\u001b[0m     early_stopping_rounds\u001b[39m=\u001b[39m\u001b[39m20\u001b[39m,\n\u001b[0;32m     <a href='vscode-notebook-cell:/c%3A/Users/admin/dlgksk/House_Peices/data.ipynb#Y150sZmlsZQ%3D%3D?line=19'>20</a>\u001b[0m     verbose_eval\u001b[39m=\u001b[39m\u001b[39m10\u001b[39m,\n\u001b[0;32m     <a href='vscode-notebook-cell:/c%3A/Users/admin/dlgksk/House_Peices/data.ipynb#Y150sZmlsZQ%3D%3D?line=20'>21</a>\u001b[0m )\n\u001b[0;32m     <a href='vscode-notebook-cell:/c%3A/Users/admin/dlgksk/House_Peices/data.ipynb#Y150sZmlsZQ%3D%3D?line=21'>22</a>\u001b[0m y_pred \u001b[39m=\u001b[39m model_lgb\u001b[39m.\u001b[39mpredict(X_valid, num_iteration\u001b[39m=\u001b[39mmodel_lgb\u001b[39m.\u001b[39mbest_iteration)\n\u001b[0;32m     <a href='vscode-notebook-cell:/c%3A/Users/admin/dlgksk/House_Peices/data.ipynb#Y150sZmlsZQ%3D%3D?line=22'>23</a>\u001b[0m tmp_rmse \u001b[39m=\u001b[39m np\u001b[39m.\u001b[39msqrt(mean_squared_error(np\u001b[39m.\u001b[39mlog(y_valid), np\u001b[39m.\u001b[39mlog(y_pred)))\n",
      "\u001b[1;31mTypeError\u001b[0m: train() got an unexpected keyword argument 'early_stopping_rounds'"
     ]
    }
   ],
   "source": [
    "models = []\n",
    "rmses = []\n",
    "oof = np.zeros(len(train_X))\n",
    "\n",
    "for train_index, val_index in kf.split(train_X):\n",
    "    X_train = train_X.iloc[train_index]\n",
    "    X_valid = train_X.iloc[val_index]\n",
    "    y_train = train_Y.iloc[train_index]\n",
    "    y_valid = train_Y.iloc[val_index]\n",
    "\n",
    "    lgb_train = lgb.Dataset(X_train, y_train)\n",
    "    lgb_eval = lgb.Dataset(X_valid, y_valid, reference=lgb_train)\n",
    "\n",
    "    model_lgb = lgb.train(\n",
    "        lgbm_params,\n",
    "        lgb_train,\n",
    "        valid_sets=lgb_eval,\n",
    "        num_boost_round=100,\n",
    "        early_stopping_rounds=20,\n",
    "        verbose_eval=10,\n",
    "    )\n",
    "    y_pred = model_lgb.predict(X_valid, num_iteration=model_lgb.best_iteration)\n",
    "    tmp_rmse = np.sqrt(mean_squared_error(np.log(y_valid), np.log(y_pred)))\n",
    "    print(tmp_rmse)\n",
    "\n",
    "    models.append(model_lgb)\n",
    "    rmses.append(tmp_rmse)\n",
    "    oof[val_index] = y_pred"
   ]
  },
  {
   "cell_type": "code",
   "execution_count": 86,
   "metadata": {},
   "outputs": [],
   "source": [
    "actual_pred_df = pd.DataFrame({\"actual\": train_Y, \"pred\": oof})"
   ]
  },
  {
   "cell_type": "code",
   "execution_count": 87,
   "metadata": {},
   "outputs": [
    {
     "data": {
      "text/plain": [
       "<Axes: >"
      ]
     },
     "execution_count": 87,
     "metadata": {},
     "output_type": "execute_result"
    },
    {
     "data": {
      "image/png": "[encoded data removed]",
      "text/plain": [
       "<Figure size 1200x500 with 1 Axes>"
      ]
     },
     "metadata": {},
     "output_type": "display_data"
    }
   ],
   "source": [
    "\n",
    "actual_pred_df.plot(figsize=(12, 5))"
   ]
  },
  {
   "cell_type": "code",
   "execution_count": 88,
   "metadata": {},
   "outputs": [],
   "source": [
    "for model in models:\n",
    "    lgb.plot_importance(model, importance_type=\"gain\", max_num_features=15)"
   ]
  },
  {
   "cell_type": "code",
   "execution_count": 203,
   "metadata": {},
   "outputs": [
    {
     "ename": "IndexError",
     "evalue": "list index out of range",
     "output_type": "error",
     "traceback": [
      "\u001b[1;31m---------------------------------------------------------------------------\u001b[0m",
      "\u001b[1;31mIndexError\u001b[0m                                Traceback (most recent call last)",
      "\u001b[1;32mc:\\Users\\admin\\dlgksk\\House_Peices\\data.ipynb Cell 31\u001b[0m line \u001b[0;36m1\n\u001b[1;32m----> <a href='vscode-notebook-cell:/c%3A/Users/admin/dlgksk/House_Peices/data.ipynb#Y133sZmlsZQ%3D%3D?line=0'>1</a>\u001b[0m result \u001b[39m=\u001b[39m models[\u001b[39m0\u001b[39m]\u001b[39m.\u001b[39mpredict(test_df_le\u001b[39m.\u001b[39mdrop([\u001b[39m\"\u001b[39m\u001b[39mSalePrice\u001b[39m\u001b[39m\"\u001b[39m, \u001b[39m\"\u001b[39m\u001b[39mId\u001b[39m\u001b[39m\"\u001b[39m], axis\u001b[39m=\u001b[39m\u001b[39m1\u001b[39m))\n\u001b[0;32m      <a href='vscode-notebook-cell:/c%3A/Users/admin/dlgksk/House_Peices/data.ipynb#Y133sZmlsZQ%3D%3D?line=1'>2</a>\u001b[0m submission[\u001b[39m\"\u001b[39m\u001b[39mSalePrice\u001b[39m\u001b[39m\"\u001b[39m] \u001b[39m=\u001b[39m result\n\u001b[0;32m      <a href='vscode-notebook-cell:/c%3A/Users/admin/dlgksk/House_Peices/data.ipynb#Y133sZmlsZQ%3D%3D?line=2'>3</a>\u001b[0m submission\u001b[39m.\u001b[39mto_csv(\u001b[39m\"\u001b[39m\u001b[39m./submit/submission00.csv\u001b[39m\u001b[39m\"\u001b[39m, index\u001b[39m=\u001b[39m\u001b[39mFalse\u001b[39;00m)\n",
      "\u001b[1;31mIndexError\u001b[0m: list index out of range"
     ]
    }
   ],
   "source": [
    "\n",
    "result = models[0].predict(test_df_le.drop([\"SalePrice\", \"Id\"], axis=1))\n",
    "submission[\"SalePrice\"] = result\n",
    "submission.to_csv(\"./submit/submission00.csv\", index=False)"
   ]
  },
  {
   "cell_type": "code",
   "execution_count": 90,
   "metadata": {},
   "outputs": [
    {
     "data": {
      "text/plain": [
       "count      1460.000000\n",
       "mean     180921.195890\n",
       "std       79442.502883\n",
       "min       34900.000000\n",
       "25%      129975.000000\n",
       "50%      163000.000000\n",
       "75%      214000.000000\n",
       "max      755000.000000\n",
       "Name: SalePrice, dtype: float64"
      ]
     },
     "execution_count": 90,
     "metadata": {},
     "output_type": "execute_result"
    }
   ],
   "source": [
    "\n",
    "train_df[\"SalePrice\"].describe()"
   ]
  },
  {
   "cell_type": "code",
   "execution_count": 91,
   "metadata": {},
   "outputs": [
    {
     "data": {
      "text/plain": [
       "<Axes: ylabel='Frequency'>"
      ]
     },
     "execution_count": 91,
     "metadata": {},
     "output_type": "execute_result"
    },
    {
     "data": {
      "image/png": "[encoded data removed]",
      "text/plain": [
       "<Figure size 640x480 with 1 Axes>"
      ]
     },
     "metadata": {},
     "output_type": "display_data"
    }
   ],
   "source": [
    "\n",
    "train_df[\"SalePrice\"].plot.hist(bins=20)"
   ]
  },
  {
   "cell_type": "code",
   "execution_count": 92,
   "metadata": {},
   "outputs": [
    {
     "data": {
      "text/plain": [
       "0       12.247694\n",
       "1       12.109011\n",
       "2       12.317167\n",
       "3       11.849398\n",
       "4       12.429216\n",
       "          ...    \n",
       "1455    12.072541\n",
       "1456    12.254863\n",
       "1457    12.493130\n",
       "1458    11.864462\n",
       "1459    11.901583\n",
       "Name: SalePrice, Length: 1460, dtype: float64"
      ]
     },
     "execution_count": 92,
     "metadata": {},
     "output_type": "execute_result"
    }
   ],
   "source": [
    "np.log(train_df[\"SalePrice\"])"
   ]
  },
  {
   "cell_type": "code",
   "execution_count": 93,
   "metadata": {},
   "outputs": [
    {
     "data": {
      "text/plain": [
       "<Axes: ylabel='Frequency'>"
      ]
     },
     "execution_count": 93,
     "metadata": {},
     "output_type": "execute_result"
    },
    {
     "data": {
      "image/png": "[encoded data removed]",
      "text/plain": [
       "<Figure size 640x480 with 1 Axes>"
      ]
     },
     "metadata": {},
     "output_type": "display_data"
    }
   ],
   "source": [
    "np.log(train_df[\"SalePrice\"]).plot.hist(bins=20)"
   ]
  },
  {
   "cell_type": "code",
   "execution_count": 94,
   "metadata": {},
   "outputs": [],
   "source": [
    "pd.options.mode.chained_assignment = None\n",
    "train_df_le[\"SalePrice_log\"] = np.log(train_df_le[\"SalePrice\"])"
   ]
  },
  {
   "cell_type": "code",
   "execution_count": 95,
   "metadata": {},
   "outputs": [],
   "source": [
    "train_X = train_df_le.drop([\"SalePrice\", \"SalePrice_log\", \"Id\"], axis=1)\n",
    "train_Y = train_df_le[\"SalePrice_log\"]"
   ]
  },
  {
   "cell_type": "code",
   "execution_count": 96,
   "metadata": {},
   "outputs": [
    {
     "name": "stdout",
     "output_type": "stream",
     "text": [
      "<class 'pandas.core.frame.DataFrame'>\n",
      "Int64Index: 1460 entries, 0 to 1459\n",
      "Data columns (total 79 columns):\n",
      " #   Column         Non-Null Count  Dtype   \n",
      "---  ------         --------------  -----   \n",
      " 0   MSSubClass     1460 non-null   int64   \n",
      " 1   MSZoning       1460 non-null   category\n",
      " 2   LotFrontage    1201 non-null   float64 \n",
      " 3   LotArea        1460 non-null   int64   \n",
      " 4   Street         1460 non-null   category\n",
      " 5   Alley          1460 non-null   category\n",
      " 6   LotShape       1460 non-null   category\n",
      " 7   LandContour    1460 non-null   category\n",
      " 8   Utilities      1460 non-null   category\n",
      " 9   LotConfig      1460 non-null   category\n",
      " 10  LandSlope      1460 non-null   category\n",
      " 11  Neighborhood   1460 non-null   category\n",
      " 12  Condition1     1460 non-null   category\n",
      " 13  Condition2     1460 non-null   category\n",
      " 14  BldgType       1460 non-null   category\n",
      " 15  HouseStyle     1460 non-null   category\n",
      " 16  OverallQual    1460 non-null   int64   \n",
      " 17  OverallCond    1460 non-null   int64   \n",
      " 18  YearBuilt      1460 non-null   int64   \n",
      " 19  YearRemodAdd   1460 non-null   int64   \n",
      " 20  RoofStyle      1460 non-null   category\n",
      " 21  RoofMatl       1460 non-null   category\n",
      " 22  Exterior1st    1460 non-null   category\n",
      " 23  Exterior2nd    1460 non-null   category\n",
      " 24  MasVnrType     1460 non-null   category\n",
      " 25  MasVnrArea     1452 non-null   float64 \n",
      " 26  ExterQual      1460 non-null   category\n",
      " 27  ExterCond      1460 non-null   category\n",
      " 28  Foundation     1460 non-null   category\n",
      " 29  BsmtQual       1460 non-null   category\n",
      " 30  BsmtCond       1460 non-null   category\n",
      " 31  BsmtExposure   1460 non-null   category\n",
      " 32  BsmtFinType1   1460 non-null   category\n",
      " 33  BsmtFinSF1     1460 non-null   float64 \n",
      " 34  BsmtFinType2   1460 non-null   category\n",
      " 35  BsmtFinSF2     1460 non-null   float64 \n",
      " 36  BsmtUnfSF      1460 non-null   float64 \n",
      " 37  TotalBsmtSF    1460 non-null   float64 \n",
      " 38  Heating        1460 non-null   category\n",
      " 39  HeatingQC      1460 non-null   category\n",
      " 40  CentralAir     1460 non-null   category\n",
      " 41  Electrical     1460 non-null   category\n",
      " 42  1stFlrSF       1460 non-null   int64   \n",
      " 43  2ndFlrSF       1460 non-null   int64   \n",
      " 44  LowQualFinSF   1460 non-null   int64   \n",
      " 45  GrLivArea      1460 non-null   int64   \n",
      " 46  BsmtFullBath   1460 non-null   float64 \n",
      " 47  BsmtHalfBath   1460 non-null   float64 \n",
      " 48  FullBath       1460 non-null   int64   \n",
      " 49  HalfBath       1460 non-null   int64   \n",
      " 50  BedroomAbvGr   1460 non-null   int64   \n",
      " 51  KitchenAbvGr   1460 non-null   int64   \n",
      " 52  KitchenQual    1460 non-null   category\n",
      " 53  TotRmsAbvGrd   1460 non-null   int64   \n",
      " 54  Functional     1460 non-null   category\n",
      " 55  Fireplaces     1460 non-null   int64   \n",
      " 56  FireplaceQu    1460 non-null   category\n",
      " 57  GarageType     1460 non-null   category\n",
      " 58  GarageYrBlt    1379 non-null   float64 \n",
      " 59  GarageFinish   1460 non-null   category\n",
      " 60  GarageCars     1460 non-null   float64 \n",
      " 61  GarageArea     1460 non-null   float64 \n",
      " 62  GarageQual     1460 non-null   category\n",
      " 63  GarageCond     1460 non-null   category\n",
      " 64  PavedDrive     1460 non-null   category\n",
      " 65  WoodDeckSF     1460 non-null   int64   \n",
      " 66  OpenPorchSF    1460 non-null   int64   \n",
      " 67  EnclosedPorch  1460 non-null   int64   \n",
      " 68  3SsnPorch      1460 non-null   int64   \n",
      " 69  ScreenPorch    1460 non-null   int64   \n",
      " 70  PoolArea       1460 non-null   int64   \n",
      " 71  PoolQC         1460 non-null   category\n",
      " 72  Fence          1460 non-null   category\n",
      " 73  MiscFeature    1460 non-null   category\n",
      " 74  MiscVal        1460 non-null   int64   \n",
      " 75  MoSold         1460 non-null   int64   \n",
      " 76  YrSold         1460 non-null   int64   \n",
      " 77  SaleType       1460 non-null   category\n",
      " 78  SaleCondition  1460 non-null   category\n",
      "dtypes: category(43), float64(11), int64(25)\n",
      "memory usage: 494.6 KB\n"
     ]
    }
   ],
   "source": [
    "train_X.info()"
   ]
  },
  {
   "cell_type": "code",
   "execution_count": 97,
   "metadata": {},
   "outputs": [
    {
     "data": {
      "text/plain": [
       "0       12.247694\n",
       "1       12.109011\n",
       "2       12.317167\n",
       "3       11.849398\n",
       "4       12.429216\n",
       "          ...    \n",
       "1455    12.072541\n",
       "1456    12.254863\n",
       "1457    12.493130\n",
       "1458    11.864462\n",
       "1459    11.901583\n",
       "Name: SalePrice_log, Length: 1460, dtype: float64"
      ]
     },
     "execution_count": 97,
     "metadata": {},
     "output_type": "execute_result"
    }
   ],
   "source": [
    "train_Y"
   ]
  },
  {
   "cell_type": "code",
   "execution_count": 161,
   "metadata": {},
   "outputs": [
    {
     "ename": "TypeError",
     "evalue": "train() got an unexpected keyword argument 'early_stopping_rounds'",
     "output_type": "error",
     "traceback": [
      "\u001b[1;31m---------------------------------------------------------------------------\u001b[0m",
      "\u001b[1;31mTypeError\u001b[0m                                 Traceback (most recent call last)",
      "\u001b[1;32mc:\\Users\\admin\\dlgksk\\House_Peices\\data.ipynb Cell 40\u001b[0m line \u001b[0;36m1\n\u001b[0;32m     <a href='vscode-notebook-cell:/c%3A/Users/admin/dlgksk/House_Peices/data.ipynb#Y121sZmlsZQ%3D%3D?line=14'>15</a>\u001b[0m lgb_train \u001b[39m=\u001b[39m lgb\u001b[39m.\u001b[39mDataset(X_train, y_train)\n\u001b[0;32m     <a href='vscode-notebook-cell:/c%3A/Users/admin/dlgksk/House_Peices/data.ipynb#Y121sZmlsZQ%3D%3D?line=15'>16</a>\u001b[0m lgb_eval \u001b[39m=\u001b[39m lgb\u001b[39m.\u001b[39mDataset(X_valid, y_valid, reference\u001b[39m=\u001b[39mlgb_train)\n\u001b[1;32m---> <a href='vscode-notebook-cell:/c%3A/Users/admin/dlgksk/House_Peices/data.ipynb#Y121sZmlsZQ%3D%3D?line=17'>18</a>\u001b[0m model_lgb \u001b[39m=\u001b[39m lgb\u001b[39m.\u001b[39mtrain(\n\u001b[0;32m     <a href='vscode-notebook-cell:/c%3A/Users/admin/dlgksk/House_Peices/data.ipynb#Y121sZmlsZQ%3D%3D?line=18'>19</a>\u001b[0m     lgbm_params,\n\u001b[0;32m     <a href='vscode-notebook-cell:/c%3A/Users/admin/dlgksk/House_Peices/data.ipynb#Y121sZmlsZQ%3D%3D?line=19'>20</a>\u001b[0m     lgb_train,\n\u001b[0;32m     <a href='vscode-notebook-cell:/c%3A/Users/admin/dlgksk/House_Peices/data.ipynb#Y121sZmlsZQ%3D%3D?line=20'>21</a>\u001b[0m     valid_sets\u001b[39m=\u001b[39mlgb_eval,\n\u001b[0;32m     <a href='vscode-notebook-cell:/c%3A/Users/admin/dlgksk/House_Peices/data.ipynb#Y121sZmlsZQ%3D%3D?line=21'>22</a>\u001b[0m     num_boost_round\u001b[39m=\u001b[39m\u001b[39m100\u001b[39m,\n\u001b[0;32m     <a href='vscode-notebook-cell:/c%3A/Users/admin/dlgksk/House_Peices/data.ipynb#Y121sZmlsZQ%3D%3D?line=22'>23</a>\u001b[0m     early_stopping_rounds\u001b[39m=\u001b[39m\u001b[39m20\u001b[39m,\n\u001b[0;32m     <a href='vscode-notebook-cell:/c%3A/Users/admin/dlgksk/House_Peices/data.ipynb#Y121sZmlsZQ%3D%3D?line=23'>24</a>\u001b[0m     verbose_eval\u001b[39m=\u001b[39m\u001b[39m10\u001b[39m,\n\u001b[0;32m     <a href='vscode-notebook-cell:/c%3A/Users/admin/dlgksk/House_Peices/data.ipynb#Y121sZmlsZQ%3D%3D?line=24'>25</a>\u001b[0m )\n\u001b[0;32m     <a href='vscode-notebook-cell:/c%3A/Users/admin/dlgksk/House_Peices/data.ipynb#Y121sZmlsZQ%3D%3D?line=25'>26</a>\u001b[0m y_pred \u001b[39m=\u001b[39m model_lgb\u001b[39m.\u001b[39mpredict(X_valid, num_iteration\u001b[39m=\u001b[39mmodel_lgb\u001b[39m.\u001b[39mbest_iteration)\n\u001b[0;32m     <a href='vscode-notebook-cell:/c%3A/Users/admin/dlgksk/House_Peices/data.ipynb#Y121sZmlsZQ%3D%3D?line=26'>27</a>\u001b[0m tmp_rmse \u001b[39m=\u001b[39m np\u001b[39m.\u001b[39msqrt(mean_squared_error(y_valid, y_pred))\n",
      "\u001b[1;31mTypeError\u001b[0m: train() got an unexpected keyword argument 'early_stopping_rounds'"
     ]
    }
   ],
   "source": [
    "import warnings\n",
    "\n",
    "warnings.filterwarnings(\"ignore\")\n",
    "\n",
    "models = []\n",
    "rmses = []\n",
    "oof = np.zeros(len(train_X))\n",
    "\n",
    "for train_index, val_index in kf.split(train_X):\n",
    "    X_train = train_X.iloc[train_index]\n",
    "    X_valid = train_X.iloc[val_index]\n",
    "    y_train = train_Y.iloc[train_index]\n",
    "    y_valid = train_Y.iloc[val_index]\n",
    "\n",
    "    lgb_train = lgb.Dataset(X_train, y_train)\n",
    "    lgb_eval = lgb.Dataset(X_valid, y_valid, reference=lgb_train)\n",
    "\n",
    "    model_lgb = lgb.train(\n",
    "        lgbm_params,\n",
    "        lgb_train,\n",
    "        valid_sets=lgb_eval,\n",
    "        num_boost_round=100,\n",
    "        early_stopping_rounds=20,\n",
    "        verbose_eval=10,\n",
    "    )\n",
    "    y_pred = model_lgb.predict(X_valid, num_iteration=model_lgb.best_iteration)\n",
    "    tmp_rmse = np.sqrt(mean_squared_error(y_valid, y_pred))\n",
    "    print(tmp_rmse)\n",
    "\n",
    "    models.append(model_lgb)\n",
    "    rmses.append(tmp_rmse)\n",
    "    oof[val_index] = y_pred"
   ]
  },
  {
   "cell_type": "code",
   "execution_count": 204,
   "metadata": {},
   "outputs": [
    {
     "ename": "IndexError",
     "evalue": "list index out of range",
     "output_type": "error",
     "traceback": [
      "\u001b[1;31m---------------------------------------------------------------------------\u001b[0m",
      "\u001b[1;31mIndexError\u001b[0m                                Traceback (most recent call last)",
      "\u001b[1;32mc:\\Users\\admin\\dlgksk\\House_Peices\\data.ipynb Cell 41\u001b[0m line \u001b[0;36m1\n\u001b[1;32m----> <a href='vscode-notebook-cell:/c%3A/Users/admin/dlgksk/House_Peices/data.ipynb#Y122sZmlsZQ%3D%3D?line=0'>1</a>\u001b[0m result \u001b[39m=\u001b[39m models[\u001b[39m0\u001b[39m]\u001b[39m.\u001b[39mpredict(test_df_le\u001b[39m.\u001b[39mdrop([\u001b[39m\"\u001b[39m\u001b[39mSalePrice\u001b[39m\u001b[39m\"\u001b[39m, \u001b[39m\"\u001b[39m\u001b[39mId\u001b[39m\u001b[39m\"\u001b[39m], axis\u001b[39m=\u001b[39m\u001b[39m1\u001b[39m))\n\u001b[0;32m      <a href='vscode-notebook-cell:/c%3A/Users/admin/dlgksk/House_Peices/data.ipynb#Y122sZmlsZQ%3D%3D?line=1'>2</a>\u001b[0m submission[\u001b[39m\"\u001b[39m\u001b[39mSalePrice\u001b[39m\u001b[39m\"\u001b[39m] \u001b[39m=\u001b[39m np\u001b[39m.\u001b[39mexp(result)\n\u001b[0;32m      <a href='vscode-notebook-cell:/c%3A/Users/admin/dlgksk/House_Peices/data.ipynb#Y122sZmlsZQ%3D%3D?line=2'>3</a>\u001b[0m submission\u001b[39m.\u001b[39mto_csv(\u001b[39m\"\u001b[39m\u001b[39m./submit/submission01.csv\u001b[39m\u001b[39m\"\u001b[39m, index\u001b[39m=\u001b[39m\u001b[39mFalse\u001b[39;00m)\n",
      "\u001b[1;31mIndexError\u001b[0m: list index out of range"
     ]
    }
   ],
   "source": [
    "result = models[0].predict(test_df_le.drop([\"SalePrice\", \"Id\"], axis=1))\n",
    "submission[\"SalePrice\"] = np.exp(result)\n",
    "submission.to_csv(\"./submit/submission01.csv\", index=False)"
   ]
  },
  {
   "cell_type": "code",
   "execution_count": 101,
   "metadata": {},
   "outputs": [
    {
     "name": "stdout",
     "output_type": "stream",
     "text": [
      "Index(['MSZoning', 'Street', 'Alley', 'LotShape', 'LandContour', 'Utilities',\n",
      "       'LotConfig', 'LandSlope', 'Neighborhood', 'Condition1', 'Condition2',\n",
      "       'BldgType', 'HouseStyle', 'RoofStyle', 'RoofMatl', 'Exterior1st',\n",
      "       'Exterior2nd', 'MasVnrType', 'ExterQual', 'ExterCond', 'Foundation',\n",
      "       'BsmtQual', 'BsmtCond', 'BsmtExposure', 'BsmtFinType1', 'BsmtFinType2',\n",
      "       'Heating', 'HeatingQC', 'CentralAir', 'Electrical', 'KitchenQual',\n",
      "       'Functional', 'FireplaceQu', 'GarageType', 'GarageFinish', 'GarageQual',\n",
      "       'GarageCond', 'PavedDrive', 'PoolQC', 'Fence', 'MiscFeature',\n",
      "       'SaleType', 'SaleCondition'],\n",
      "      dtype='object')\n"
     ]
    }
   ],
   "source": [
    "train_df = pd.read_csv(\"./data/train.csv\")\n",
    "test_df = pd.read_csv(\"./data/test.csv\")\n",
    "submission = pd.read_csv(\"./data/sample_submission.csv\")\n",
    "\n",
    "all_df = pd.concat([train_df, test_df], axis=0, sort=False).reset_index(drop=True)\n",
    "\n",
    "categories = all_df.columns[all_df.dtypes == \"object\"]\n",
    "print(categories)"
   ]
  },
  {
   "cell_type": "code",
   "execution_count": 102,
   "metadata": {},
   "outputs": [
    {
     "data": {
      "text/plain": [
       "PoolQC           2909\n",
       "MiscFeature      2814\n",
       "Alley            2721\n",
       "Fence            2348\n",
       "SalePrice        1459\n",
       "FireplaceQu      1420\n",
       "LotFrontage       486\n",
       "GarageFinish      159\n",
       "GarageQual        159\n",
       "GarageCond        159\n",
       "GarageYrBlt       159\n",
       "GarageType        157\n",
       "BsmtExposure       82\n",
       "BsmtCond           82\n",
       "BsmtQual           81\n",
       "BsmtFinType2       80\n",
       "BsmtFinType1       79\n",
       "MasVnrType         24\n",
       "MasVnrArea         23\n",
       "MSZoning            4\n",
       "Functional          2\n",
       "BsmtHalfBath        2\n",
       "BsmtFullBath        2\n",
       "Utilities           2\n",
       "BsmtFinSF1          1\n",
       "BsmtFinSF2          1\n",
       "SaleType            1\n",
       "Electrical          1\n",
       "GarageCars          1\n",
       "TotalBsmtSF         1\n",
       "GarageArea          1\n",
       "Exterior2nd         1\n",
       "Exterior1st         1\n",
       "KitchenQual         1\n",
       "BsmtUnfSF           1\n",
       "Fireplaces          0\n",
       "TotRmsAbvGrd        0\n",
       "SaleCondition       0\n",
       "OpenPorchSF         0\n",
       "YrSold              0\n",
       "dtype: int64"
      ]
     },
     "execution_count": 102,
     "metadata": {},
     "output_type": "execute_result"
    }
   ],
   "source": [
    "all_df.isnull().sum().sort_values(ascending=False).head(40)"
   ]
  },
  {
   "cell_type": "code",
   "execution_count": 103,
   "metadata": {},
   "outputs": [
    {
     "data": {
      "text/plain": [
       "Ex    4\n",
       "Gd    4\n",
       "Fa    2\n",
       "Name: PoolQC, dtype: int64"
      ]
     },
     "execution_count": 103,
     "metadata": {},
     "output_type": "execute_result"
    }
   ],
   "source": [
    "all_df.PoolQC.value_counts()"
   ]
  },
  {
   "cell_type": "code",
   "execution_count": 104,
   "metadata": {},
   "outputs": [],
   "source": [
    "all_df.loc[~all_df[\"PoolQC\"].isnull(), \"PoolQC\"] = 1\n",
    "all_df.loc[all_df[\"PoolQC\"].isnull(), \"PoolQC\"] = 0"
   ]
  },
  {
   "cell_type": "code",
   "execution_count": 105,
   "metadata": {},
   "outputs": [
    {
     "data": {
      "text/plain": [
       "0    2909\n",
       "1      10\n",
       "Name: PoolQC, dtype: int64"
      ]
     },
     "execution_count": 105,
     "metadata": {},
     "output_type": "execute_result"
    }
   ],
   "source": [
    "all_df[\"PoolQC\"].value_counts()"
   ]
  },
  {
   "cell_type": "code",
   "execution_count": 106,
   "metadata": {},
   "outputs": [],
   "source": [
    "all_df.loc[~all_df[\"MiscFeature\"].isnull(), \"MiscFeature\"] = 1\n",
    "all_df.loc[all_df[\"MiscFeature\"].isnull(), \"MiscFeature\"] = 0"
   ]
  },
  {
   "cell_type": "code",
   "execution_count": 107,
   "metadata": {},
   "outputs": [],
   "source": [
    "all_df.loc[~all_df[\"Alley\"].isnull(), \"Alley\"] = 1\n",
    "all_df.loc[all_df[\"Alley\"].isnull(), \"Alley\"] = 0"
   ]
  },
  {
   "cell_type": "code",
   "execution_count": 108,
   "metadata": {},
   "outputs": [],
   "source": [
    "all_df[\"hasHightFacility\"] = all_df[\"PoolQC\"] + all_df[\"MiscFeature\"] + all_df[\"Alley\"]"
   ]
  },
  {
   "cell_type": "code",
   "execution_count": 109,
   "metadata": {},
   "outputs": [],
   "source": [
    "all_df[\"hasHightFacility\"] = all_df[\"hasHightFacility\"].astype(int)"
   ]
  },
  {
   "cell_type": "code",
   "execution_count": 110,
   "metadata": {},
   "outputs": [
    {
     "data": {
      "text/plain": [
       "0    2615\n",
       "1     295\n",
       "2       9\n",
       "Name: hasHightFacility, dtype: int64"
      ]
     },
     "execution_count": 110,
     "metadata": {},
     "output_type": "execute_result"
    }
   ],
   "source": [
    "all_df[\"hasHightFacility\"].value_counts()"
   ]
  },
  {
   "cell_type": "code",
   "execution_count": 111,
   "metadata": {},
   "outputs": [],
   "source": [
    "\n",
    "all_df = all_df.drop([\"PoolQC\", \"MiscFeature\", \"Alley\"], axis=1)"
   ]
  },
  {
   "cell_type": "code",
   "execution_count": 112,
   "metadata": {},
   "outputs": [
    {
     "data": {
      "text/html": [
       "<div>\n",
       "<style scoped>\n",
       "    .dataframe tbody tr th:only-of-type {\n",
       "        vertical-align: middle;\n",
       "    }\n",
       "\n",
       "    .dataframe tbody tr th {\n",
       "        vertical-align: top;\n",
       "    }\n",
       "\n",
       "    .dataframe thead th {\n",
       "        text-align: right;\n",
       "    }\n",
       "</style>\n",
       "<table border=\"1\" class=\"dataframe\">\n",
       "  <thead>\n",
       "    <tr style=\"text-align: right;\">\n",
       "      <th></th>\n",
       "      <th>count</th>\n",
       "      <th>mean</th>\n",
       "      <th>std</th>\n",
       "      <th>min</th>\n",
       "      <th>25%</th>\n",
       "      <th>50%</th>\n",
       "      <th>75%</th>\n",
       "      <th>max</th>\n",
       "    </tr>\n",
       "  </thead>\n",
       "  <tbody>\n",
       "    <tr>\n",
       "      <th>Id</th>\n",
       "      <td>2919.0</td>\n",
       "      <td>1460.000000</td>\n",
       "      <td>842.787043</td>\n",
       "      <td>1.0</td>\n",
       "      <td>730.5</td>\n",
       "      <td>1460.0</td>\n",
       "      <td>2189.5</td>\n",
       "      <td>2919.0</td>\n",
       "    </tr>\n",
       "    <tr>\n",
       "      <th>MSSubClass</th>\n",
       "      <td>2919.0</td>\n",
       "      <td>57.137718</td>\n",
       "      <td>42.517628</td>\n",
       "      <td>20.0</td>\n",
       "      <td>20.0</td>\n",
       "      <td>50.0</td>\n",
       "      <td>70.0</td>\n",
       "      <td>190.0</td>\n",
       "    </tr>\n",
       "    <tr>\n",
       "      <th>LotFrontage</th>\n",
       "      <td>2433.0</td>\n",
       "      <td>69.305795</td>\n",
       "      <td>23.344905</td>\n",
       "      <td>21.0</td>\n",
       "      <td>59.0</td>\n",
       "      <td>68.0</td>\n",
       "      <td>80.0</td>\n",
       "      <td>313.0</td>\n",
       "    </tr>\n",
       "    <tr>\n",
       "      <th>LotArea</th>\n",
       "      <td>2919.0</td>\n",
       "      <td>10168.114080</td>\n",
       "      <td>7886.996359</td>\n",
       "      <td>1300.0</td>\n",
       "      <td>7478.0</td>\n",
       "      <td>9453.0</td>\n",
       "      <td>11570.0</td>\n",
       "      <td>215245.0</td>\n",
       "    </tr>\n",
       "    <tr>\n",
       "      <th>OverallQual</th>\n",
       "      <td>2919.0</td>\n",
       "      <td>6.089072</td>\n",
       "      <td>1.409947</td>\n",
       "      <td>1.0</td>\n",
       "      <td>5.0</td>\n",
       "      <td>6.0</td>\n",
       "      <td>7.0</td>\n",
       "      <td>10.0</td>\n",
       "    </tr>\n",
       "    <tr>\n",
       "      <th>OverallCond</th>\n",
       "      <td>2919.0</td>\n",
       "      <td>5.564577</td>\n",
       "      <td>1.113131</td>\n",
       "      <td>1.0</td>\n",
       "      <td>5.0</td>\n",
       "      <td>5.0</td>\n",
       "      <td>6.0</td>\n",
       "      <td>9.0</td>\n",
       "    </tr>\n",
       "    <tr>\n",
       "      <th>YearBuilt</th>\n",
       "      <td>2919.0</td>\n",
       "      <td>1971.312778</td>\n",
       "      <td>30.291442</td>\n",
       "      <td>1872.0</td>\n",
       "      <td>1953.5</td>\n",
       "      <td>1973.0</td>\n",
       "      <td>2001.0</td>\n",
       "      <td>2010.0</td>\n",
       "    </tr>\n",
       "    <tr>\n",
       "      <th>YearRemodAdd</th>\n",
       "      <td>2919.0</td>\n",
       "      <td>1984.264474</td>\n",
       "      <td>20.894344</td>\n",
       "      <td>1950.0</td>\n",
       "      <td>1965.0</td>\n",
       "      <td>1993.0</td>\n",
       "      <td>2004.0</td>\n",
       "      <td>2010.0</td>\n",
       "    </tr>\n",
       "    <tr>\n",
       "      <th>MasVnrArea</th>\n",
       "      <td>2896.0</td>\n",
       "      <td>102.201312</td>\n",
       "      <td>179.334253</td>\n",
       "      <td>0.0</td>\n",
       "      <td>0.0</td>\n",
       "      <td>0.0</td>\n",
       "      <td>164.0</td>\n",
       "      <td>1600.0</td>\n",
       "    </tr>\n",
       "    <tr>\n",
       "      <th>BsmtFinSF1</th>\n",
       "      <td>2918.0</td>\n",
       "      <td>441.423235</td>\n",
       "      <td>455.610826</td>\n",
       "      <td>0.0</td>\n",
       "      <td>0.0</td>\n",
       "      <td>368.5</td>\n",
       "      <td>733.0</td>\n",
       "      <td>5644.0</td>\n",
       "    </tr>\n",
       "    <tr>\n",
       "      <th>BsmtFinSF2</th>\n",
       "      <td>2918.0</td>\n",
       "      <td>49.582248</td>\n",
       "      <td>169.205611</td>\n",
       "      <td>0.0</td>\n",
       "      <td>0.0</td>\n",
       "      <td>0.0</td>\n",
       "      <td>0.0</td>\n",
       "      <td>1526.0</td>\n",
       "    </tr>\n",
       "    <tr>\n",
       "      <th>BsmtUnfSF</th>\n",
       "      <td>2918.0</td>\n",
       "      <td>560.772104</td>\n",
       "      <td>439.543659</td>\n",
       "      <td>0.0</td>\n",
       "      <td>220.0</td>\n",
       "      <td>467.0</td>\n",
       "      <td>805.5</td>\n",
       "      <td>2336.0</td>\n",
       "    </tr>\n",
       "    <tr>\n",
       "      <th>TotalBsmtSF</th>\n",
       "      <td>2918.0</td>\n",
       "      <td>1051.777587</td>\n",
       "      <td>440.766258</td>\n",
       "      <td>0.0</td>\n",
       "      <td>793.0</td>\n",
       "      <td>989.5</td>\n",
       "      <td>1302.0</td>\n",
       "      <td>6110.0</td>\n",
       "    </tr>\n",
       "    <tr>\n",
       "      <th>1stFlrSF</th>\n",
       "      <td>2919.0</td>\n",
       "      <td>1159.581706</td>\n",
       "      <td>392.362079</td>\n",
       "      <td>334.0</td>\n",
       "      <td>876.0</td>\n",
       "      <td>1082.0</td>\n",
       "      <td>1387.5</td>\n",
       "      <td>5095.0</td>\n",
       "    </tr>\n",
       "    <tr>\n",
       "      <th>2ndFlrSF</th>\n",
       "      <td>2919.0</td>\n",
       "      <td>336.483727</td>\n",
       "      <td>428.701456</td>\n",
       "      <td>0.0</td>\n",
       "      <td>0.0</td>\n",
       "      <td>0.0</td>\n",
       "      <td>704.0</td>\n",
       "      <td>2065.0</td>\n",
       "    </tr>\n",
       "    <tr>\n",
       "      <th>LowQualFinSF</th>\n",
       "      <td>2919.0</td>\n",
       "      <td>4.694416</td>\n",
       "      <td>46.396825</td>\n",
       "      <td>0.0</td>\n",
       "      <td>0.0</td>\n",
       "      <td>0.0</td>\n",
       "      <td>0.0</td>\n",
       "      <td>1064.0</td>\n",
       "    </tr>\n",
       "    <tr>\n",
       "      <th>GrLivArea</th>\n",
       "      <td>2919.0</td>\n",
       "      <td>1500.759849</td>\n",
       "      <td>506.051045</td>\n",
       "      <td>334.0</td>\n",
       "      <td>1126.0</td>\n",
       "      <td>1444.0</td>\n",
       "      <td>1743.5</td>\n",
       "      <td>5642.0</td>\n",
       "    </tr>\n",
       "    <tr>\n",
       "      <th>BsmtFullBath</th>\n",
       "      <td>2917.0</td>\n",
       "      <td>0.429894</td>\n",
       "      <td>0.524736</td>\n",
       "      <td>0.0</td>\n",
       "      <td>0.0</td>\n",
       "      <td>0.0</td>\n",
       "      <td>1.0</td>\n",
       "      <td>3.0</td>\n",
       "    </tr>\n",
       "    <tr>\n",
       "      <th>BsmtHalfBath</th>\n",
       "      <td>2917.0</td>\n",
       "      <td>0.061364</td>\n",
       "      <td>0.245687</td>\n",
       "      <td>0.0</td>\n",
       "      <td>0.0</td>\n",
       "      <td>0.0</td>\n",
       "      <td>0.0</td>\n",
       "      <td>2.0</td>\n",
       "    </tr>\n",
       "    <tr>\n",
       "      <th>FullBath</th>\n",
       "      <td>2919.0</td>\n",
       "      <td>1.568003</td>\n",
       "      <td>0.552969</td>\n",
       "      <td>0.0</td>\n",
       "      <td>1.0</td>\n",
       "      <td>2.0</td>\n",
       "      <td>2.0</td>\n",
       "      <td>4.0</td>\n",
       "    </tr>\n",
       "    <tr>\n",
       "      <th>HalfBath</th>\n",
       "      <td>2919.0</td>\n",
       "      <td>0.380267</td>\n",
       "      <td>0.502872</td>\n",
       "      <td>0.0</td>\n",
       "      <td>0.0</td>\n",
       "      <td>0.0</td>\n",
       "      <td>1.0</td>\n",
       "      <td>2.0</td>\n",
       "    </tr>\n",
       "    <tr>\n",
       "      <th>BedroomAbvGr</th>\n",
       "      <td>2919.0</td>\n",
       "      <td>2.860226</td>\n",
       "      <td>0.822693</td>\n",
       "      <td>0.0</td>\n",
       "      <td>2.0</td>\n",
       "      <td>3.0</td>\n",
       "      <td>3.0</td>\n",
       "      <td>8.0</td>\n",
       "    </tr>\n",
       "    <tr>\n",
       "      <th>KitchenAbvGr</th>\n",
       "      <td>2919.0</td>\n",
       "      <td>1.044536</td>\n",
       "      <td>0.214462</td>\n",
       "      <td>0.0</td>\n",
       "      <td>1.0</td>\n",
       "      <td>1.0</td>\n",
       "      <td>1.0</td>\n",
       "      <td>3.0</td>\n",
       "    </tr>\n",
       "    <tr>\n",
       "      <th>TotRmsAbvGrd</th>\n",
       "      <td>2919.0</td>\n",
       "      <td>6.451524</td>\n",
       "      <td>1.569379</td>\n",
       "      <td>2.0</td>\n",
       "      <td>5.0</td>\n",
       "      <td>6.0</td>\n",
       "      <td>7.0</td>\n",
       "      <td>15.0</td>\n",
       "    </tr>\n",
       "    <tr>\n",
       "      <th>Fireplaces</th>\n",
       "      <td>2919.0</td>\n",
       "      <td>0.597122</td>\n",
       "      <td>0.646129</td>\n",
       "      <td>0.0</td>\n",
       "      <td>0.0</td>\n",
       "      <td>1.0</td>\n",
       "      <td>1.0</td>\n",
       "      <td>4.0</td>\n",
       "    </tr>\n",
       "    <tr>\n",
       "      <th>GarageYrBlt</th>\n",
       "      <td>2760.0</td>\n",
       "      <td>1978.113406</td>\n",
       "      <td>25.574285</td>\n",
       "      <td>1895.0</td>\n",
       "      <td>1960.0</td>\n",
       "      <td>1979.0</td>\n",
       "      <td>2002.0</td>\n",
       "      <td>2207.0</td>\n",
       "    </tr>\n",
       "    <tr>\n",
       "      <th>GarageCars</th>\n",
       "      <td>2918.0</td>\n",
       "      <td>1.766621</td>\n",
       "      <td>0.761624</td>\n",
       "      <td>0.0</td>\n",
       "      <td>1.0</td>\n",
       "      <td>2.0</td>\n",
       "      <td>2.0</td>\n",
       "      <td>5.0</td>\n",
       "    </tr>\n",
       "    <tr>\n",
       "      <th>GarageArea</th>\n",
       "      <td>2918.0</td>\n",
       "      <td>472.874572</td>\n",
       "      <td>215.394815</td>\n",
       "      <td>0.0</td>\n",
       "      <td>320.0</td>\n",
       "      <td>480.0</td>\n",
       "      <td>576.0</td>\n",
       "      <td>1488.0</td>\n",
       "    </tr>\n",
       "    <tr>\n",
       "      <th>WoodDeckSF</th>\n",
       "      <td>2919.0</td>\n",
       "      <td>93.709832</td>\n",
       "      <td>126.526589</td>\n",
       "      <td>0.0</td>\n",
       "      <td>0.0</td>\n",
       "      <td>0.0</td>\n",
       "      <td>168.0</td>\n",
       "      <td>1424.0</td>\n",
       "    </tr>\n",
       "    <tr>\n",
       "      <th>OpenPorchSF</th>\n",
       "      <td>2919.0</td>\n",
       "      <td>47.486811</td>\n",
       "      <td>67.575493</td>\n",
       "      <td>0.0</td>\n",
       "      <td>0.0</td>\n",
       "      <td>26.0</td>\n",
       "      <td>70.0</td>\n",
       "      <td>742.0</td>\n",
       "    </tr>\n",
       "    <tr>\n",
       "      <th>EnclosedPorch</th>\n",
       "      <td>2919.0</td>\n",
       "      <td>23.098321</td>\n",
       "      <td>64.244246</td>\n",
       "      <td>0.0</td>\n",
       "      <td>0.0</td>\n",
       "      <td>0.0</td>\n",
       "      <td>0.0</td>\n",
       "      <td>1012.0</td>\n",
       "    </tr>\n",
       "    <tr>\n",
       "      <th>3SsnPorch</th>\n",
       "      <td>2919.0</td>\n",
       "      <td>2.602261</td>\n",
       "      <td>25.188169</td>\n",
       "      <td>0.0</td>\n",
       "      <td>0.0</td>\n",
       "      <td>0.0</td>\n",
       "      <td>0.0</td>\n",
       "      <td>508.0</td>\n",
       "    </tr>\n",
       "    <tr>\n",
       "      <th>ScreenPorch</th>\n",
       "      <td>2919.0</td>\n",
       "      <td>16.062350</td>\n",
       "      <td>56.184365</td>\n",
       "      <td>0.0</td>\n",
       "      <td>0.0</td>\n",
       "      <td>0.0</td>\n",
       "      <td>0.0</td>\n",
       "      <td>576.0</td>\n",
       "    </tr>\n",
       "    <tr>\n",
       "      <th>PoolArea</th>\n",
       "      <td>2919.0</td>\n",
       "      <td>2.251799</td>\n",
       "      <td>35.663946</td>\n",
       "      <td>0.0</td>\n",
       "      <td>0.0</td>\n",
       "      <td>0.0</td>\n",
       "      <td>0.0</td>\n",
       "      <td>800.0</td>\n",
       "    </tr>\n",
       "    <tr>\n",
       "      <th>MiscVal</th>\n",
       "      <td>2919.0</td>\n",
       "      <td>50.825968</td>\n",
       "      <td>567.402211</td>\n",
       "      <td>0.0</td>\n",
       "      <td>0.0</td>\n",
       "      <td>0.0</td>\n",
       "      <td>0.0</td>\n",
       "      <td>17000.0</td>\n",
       "    </tr>\n",
       "    <tr>\n",
       "      <th>MoSold</th>\n",
       "      <td>2919.0</td>\n",
       "      <td>6.213087</td>\n",
       "      <td>2.714762</td>\n",
       "      <td>1.0</td>\n",
       "      <td>4.0</td>\n",
       "      <td>6.0</td>\n",
       "      <td>8.0</td>\n",
       "      <td>12.0</td>\n",
       "    </tr>\n",
       "    <tr>\n",
       "      <th>YrSold</th>\n",
       "      <td>2919.0</td>\n",
       "      <td>2007.792737</td>\n",
       "      <td>1.314964</td>\n",
       "      <td>2006.0</td>\n",
       "      <td>2007.0</td>\n",
       "      <td>2008.0</td>\n",
       "      <td>2009.0</td>\n",
       "      <td>2010.0</td>\n",
       "    </tr>\n",
       "    <tr>\n",
       "      <th>SalePrice</th>\n",
       "      <td>1460.0</td>\n",
       "      <td>180921.195890</td>\n",
       "      <td>79442.502883</td>\n",
       "      <td>34900.0</td>\n",
       "      <td>129975.0</td>\n",
       "      <td>163000.0</td>\n",
       "      <td>214000.0</td>\n",
       "      <td>755000.0</td>\n",
       "    </tr>\n",
       "    <tr>\n",
       "      <th>hasHightFacility</th>\n",
       "      <td>2919.0</td>\n",
       "      <td>0.107229</td>\n",
       "      <td>0.319268</td>\n",
       "      <td>0.0</td>\n",
       "      <td>0.0</td>\n",
       "      <td>0.0</td>\n",
       "      <td>0.0</td>\n",
       "      <td>2.0</td>\n",
       "    </tr>\n",
       "  </tbody>\n",
       "</table>\n",
       "</div>"
      ],
      "text/plain": [
       "                   count           mean           std      min       25%  \\\n",
       "Id                2919.0    1460.000000    842.787043      1.0     730.5   \n",
       "MSSubClass        2919.0      57.137718     42.517628     20.0      20.0   \n",
       "LotFrontage       2433.0      69.305795     23.344905     21.0      59.0   \n",
       "LotArea           2919.0   10168.114080   7886.996359   1300.0    7478.0   \n",
       "OverallQual       2919.0       6.089072      1.409947      1.0       5.0   \n",
       "OverallCond       2919.0       5.564577      1.113131      1.0       5.0   \n",
       "YearBuilt         2919.0    1971.312778     30.291442   1872.0    1953.5   \n",
       "YearRemodAdd      2919.0    1984.264474     20.894344   1950.0    1965.0   \n",
       "MasVnrArea        2896.0     102.201312    179.334253      0.0       0.0   \n",
       "BsmtFinSF1        2918.0     441.423235    455.610826      0.0       0.0   \n",
       "BsmtFinSF2        2918.0      49.582248    169.205611      0.0       0.0   \n",
       "BsmtUnfSF         2918.0     560.772104    439.543659      0.0     220.0   \n",
       "TotalBsmtSF       2918.0    1051.777587    440.766258      0.0     793.0   \n",
       "1stFlrSF          2919.0    1159.581706    392.362079    334.0     876.0   \n",
       "2ndFlrSF          2919.0     336.483727    428.701456      0.0       0.0   \n",
       "LowQualFinSF      2919.0       4.694416     46.396825      0.0       0.0   \n",
       "GrLivArea         2919.0    1500.759849    506.051045    334.0    1126.0   \n",
       "BsmtFullBath      2917.0       0.429894      0.524736      0.0       0.0   \n",
       "BsmtHalfBath      2917.0       0.061364      0.245687      0.0       0.0   \n",
       "FullBath          2919.0       1.568003      0.552969      0.0       1.0   \n",
       "HalfBath          2919.0       0.380267      0.502872      0.0       0.0   \n",
       "BedroomAbvGr      2919.0       2.860226      0.822693      0.0       2.0   \n",
       "KitchenAbvGr      2919.0       1.044536      0.214462      0.0       1.0   \n",
       "TotRmsAbvGrd      2919.0       6.451524      1.569379      2.0       5.0   \n",
       "Fireplaces        2919.0       0.597122      0.646129      0.0       0.0   \n",
       "GarageYrBlt       2760.0    1978.113406     25.574285   1895.0    1960.0   \n",
       "GarageCars        2918.0       1.766621      0.761624      0.0       1.0   \n",
       "GarageArea        2918.0     472.874572    215.394815      0.0     320.0   \n",
       "WoodDeckSF        2919.0      93.709832    126.526589      0.0       0.0   \n",
       "OpenPorchSF       2919.0      47.486811     67.575493      0.0       0.0   \n",
       "EnclosedPorch     2919.0      23.098321     64.244246      0.0       0.0   \n",
       "3SsnPorch         2919.0       2.602261     25.188169      0.0       0.0   \n",
       "ScreenPorch       2919.0      16.062350     56.184365      0.0       0.0   \n",
       "PoolArea          2919.0       2.251799     35.663946      0.0       0.0   \n",
       "MiscVal           2919.0      50.825968    567.402211      0.0       0.0   \n",
       "MoSold            2919.0       6.213087      2.714762      1.0       4.0   \n",
       "YrSold            2919.0    2007.792737      1.314964   2006.0    2007.0   \n",
       "SalePrice         1460.0  180921.195890  79442.502883  34900.0  129975.0   \n",
       "hasHightFacility  2919.0       0.107229      0.319268      0.0       0.0   \n",
       "\n",
       "                       50%       75%       max  \n",
       "Id                  1460.0    2189.5    2919.0  \n",
       "MSSubClass            50.0      70.0     190.0  \n",
       "LotFrontage           68.0      80.0     313.0  \n",
       "LotArea             9453.0   11570.0  215245.0  \n",
       "OverallQual            6.0       7.0      10.0  \n",
       "OverallCond            5.0       6.0       9.0  \n",
       "YearBuilt           1973.0    2001.0    2010.0  \n",
       "YearRemodAdd        1993.0    2004.0    2010.0  \n",
       "MasVnrArea             0.0     164.0    1600.0  \n",
       "BsmtFinSF1           368.5     733.0    5644.0  \n",
       "BsmtFinSF2             0.0       0.0    1526.0  \n",
       "BsmtUnfSF            467.0     805.5    2336.0  \n",
       "TotalBsmtSF          989.5    1302.0    6110.0  \n",
       "1stFlrSF            1082.0    1387.5    5095.0  \n",
       "2ndFlrSF               0.0     704.0    2065.0  \n",
       "LowQualFinSF           0.0       0.0    1064.0  \n",
       "GrLivArea           1444.0    1743.5    5642.0  \n",
       "BsmtFullBath           0.0       1.0       3.0  \n",
       "BsmtHalfBath           0.0       0.0       2.0  \n",
       "FullBath               2.0       2.0       4.0  \n",
       "HalfBath               0.0       1.0       2.0  \n",
       "BedroomAbvGr           3.0       3.0       8.0  \n",
       "KitchenAbvGr           1.0       1.0       3.0  \n",
       "TotRmsAbvGrd           6.0       7.0      15.0  \n",
       "Fireplaces             1.0       1.0       4.0  \n",
       "GarageYrBlt         1979.0    2002.0    2207.0  \n",
       "GarageCars             2.0       2.0       5.0  \n",
       "GarageArea           480.0     576.0    1488.0  \n",
       "WoodDeckSF             0.0     168.0    1424.0  \n",
       "OpenPorchSF           26.0      70.0     742.0  \n",
       "EnclosedPorch          0.0       0.0    1012.0  \n",
       "3SsnPorch              0.0       0.0     508.0  \n",
       "ScreenPorch            0.0       0.0     576.0  \n",
       "PoolArea               0.0       0.0     800.0  \n",
       "MiscVal                0.0       0.0   17000.0  \n",
       "MoSold                 6.0       8.0      12.0  \n",
       "YrSold              2008.0    2009.0    2010.0  \n",
       "SalePrice         163000.0  214000.0  755000.0  \n",
       "hasHightFacility       0.0       0.0       2.0  "
      ]
     },
     "execution_count": 112,
     "metadata": {},
     "output_type": "execute_result"
    }
   ],
   "source": [
    "all_df.describe().T"
   ]
  },
  {
   "cell_type": "code",
   "execution_count": 114,
   "metadata": {},
   "outputs": [],
   "source": [
    "train_df_num = train_df.select_dtypes(include=[np.number])"
   ]
  },
  {
   "cell_type": "code",
   "execution_count": 115,
   "metadata": {},
   "outputs": [],
   "source": [
    "nonration_features = [\"Id\", \"MSSubClass\", \"OverallQual\", \"OverallCond\", \"YearBuilt\",\n",
    "                      \"YearRemodAdd\", \"MoSold\", \"YrSold\"]"
   ]
  },
  {
   "cell_type": "code",
   "execution_count": 116,
   "metadata": {},
   "outputs": [],
   "source": [
    "num_features = sorted(list(set(train_df_num) - set(nonration_features)))"
   ]
  },
  {
   "cell_type": "code",
   "execution_count": 117,
   "metadata": {},
   "outputs": [
    {
     "data": {
      "text/plain": [
       "['1stFlrSF',\n",
       " '2ndFlrSF',\n",
       " '3SsnPorch',\n",
       " 'BedroomAbvGr',\n",
       " 'BsmtFinSF1',\n",
       " 'BsmtFinSF2',\n",
       " 'BsmtFullBath',\n",
       " 'BsmtHalfBath',\n",
       " 'BsmtUnfSF',\n",
       " 'EnclosedPorch',\n",
       " 'Fireplaces',\n",
       " 'FullBath',\n",
       " 'GarageArea',\n",
       " 'GarageCars',\n",
       " 'GarageYrBlt',\n",
       " 'GrLivArea',\n",
       " 'HalfBath',\n",
       " 'KitchenAbvGr',\n",
       " 'LotArea',\n",
       " 'LotFrontage',\n",
       " 'LowQualFinSF',\n",
       " 'MasVnrArea',\n",
       " 'MiscVal',\n",
       " 'OpenPorchSF',\n",
       " 'PoolArea',\n",
       " 'SalePrice',\n",
       " 'ScreenPorch',\n",
       " 'TotRmsAbvGrd',\n",
       " 'TotalBsmtSF',\n",
       " 'WoodDeckSF']"
      ]
     },
     "execution_count": 117,
     "metadata": {},
     "output_type": "execute_result"
    }
   ],
   "source": [
    "num_features"
   ]
  },
  {
   "cell_type": "code",
   "execution_count": 119,
   "metadata": {},
   "outputs": [],
   "source": [
    "train_df_num_rs = train_df_num[num_features]"
   ]
  },
  {
   "cell_type": "code",
   "execution_count": 120,
   "metadata": {},
   "outputs": [
    {
     "name": "stdout",
     "output_type": "stream",
     "text": [
      "3SsnPorch 1436\n",
      "BsmtFinSF2 1293\n",
      "BsmtHalfBath 1378\n",
      "EnclosedPorch 1252\n",
      "LowQualFinSF 1434\n",
      "MiscVal 1408\n",
      "PoolArea 1453\n",
      "ScreenPorch 1344\n"
     ]
    }
   ],
   "source": [
    "for col in num_features:\n",
    "    if train_df_num_rs.describe()[col][\"75%\"] ==0:\n",
    "        print(col, len(train_df_num_rs[train_df_num_rs[col]==0]))"
   ]
  },
  {
   "cell_type": "code",
   "execution_count": 122,
   "metadata": {},
   "outputs": [
    {
     "name": "stdout",
     "output_type": "stream",
     "text": [
      "BedroomAbvGr 8\n",
      "BsmtFullBath 4\n",
      "BsmtHalfBath 3\n",
      "Fireplaces 4\n",
      "FullBath 4\n",
      "GarageCars 5\n",
      "HalfBath 3\n",
      "KitchenAbvGr 4\n",
      "PoolArea 8\n",
      "TotRmsAbvGrd 12\n"
     ]
    }
   ],
   "source": [
    "for col in num_features:\n",
    "    if train_df_num_rs[col].nunique() <15:\n",
    "        print(col, train_df_num_rs[col].nunique())"
   ]
  },
  {
   "cell_type": "code",
   "execution_count": 123,
   "metadata": {},
   "outputs": [
    {
     "name": "stdout",
     "output_type": "stream",
     "text": [
      "1stFlrSF 12\n",
      "2ndFlrSF 4\n",
      "3SsnPorch 23\n",
      "BedroomAbvGr 14\n",
      "BsmtFinSF1 6\n",
      "BsmtFinSF2 50\n",
      "BsmtFullBath 16\n",
      "BsmtHalfBath 82\n",
      "BsmtUnfSF 11\n",
      "EnclosedPorch 51\n",
      "Fireplaces 5\n",
      "FullBath 0\n",
      "GarageArea 7\n",
      "GarageCars 0\n",
      "GarageYrBlt 1\n",
      "GrLivArea 16\n",
      "HalfBath 12\n",
      "KitchenAbvGr 68\n",
      "LotArea 13\n",
      "LotFrontage 12\n",
      "LowQualFinSF 20\n",
      "MasVnrArea 32\n",
      "MiscVal 8\n",
      "OpenPorchSF 27\n",
      "PoolArea 7\n",
      "SalePrice 22\n",
      "ScreenPorch 55\n",
      "TotRmsAbvGrd 12\n",
      "TotalBsmtSF 10\n",
      "WoodDeckSF 22\n"
     ]
    }
   ],
   "source": [
    "for col in num_features:\n",
    "    tmp_df= train_df_num_rs[(train_df_num_rs[col] > train_df_num_rs[col].mean() +\n",
    "    train_df_num_rs[col].std() *3 )| \\\n",
    "    (train_df_num_rs[col] < train_df_num_rs[col].mean() -\n",
    "    train_df_num_rs[col].std() *3 )]\n",
    "    print(col, len(tmp_df))"
   ]
  },
  {
   "cell_type": "code",
   "execution_count": 124,
   "metadata": {},
   "outputs": [
    {
     "data": {
      "text/plain": [
       "<Axes: xlabel='BsmtFinSF1', ylabel='SalePrice'>"
      ]
     },
     "execution_count": 124,
     "metadata": {},
     "output_type": "execute_result"
    },
    {
     "data": {
      "image/png": "[encoded data removed]",
      "text/plain": [
       "<Figure size 640x480 with 1 Axes>"
      ]
     },
     "metadata": {},
     "output_type": "display_data"
    }
   ],
   "source": [
    "all_df.plot.scatter(x=\"BsmtFinSF1\", y=\"SalePrice\")"
   ]
  },
  {
   "cell_type": "code",
   "execution_count": 125,
   "metadata": {},
   "outputs": [
    {
     "data": {
      "text/html": [
       "<div>\n",
       "<style scoped>\n",
       "    .dataframe tbody tr th:only-of-type {\n",
       "        vertical-align: middle;\n",
       "    }\n",
       "\n",
       "    .dataframe tbody tr th {\n",
       "        vertical-align: top;\n",
       "    }\n",
       "\n",
       "    .dataframe thead th {\n",
       "        text-align: right;\n",
       "    }\n",
       "</style>\n",
       "<table border=\"1\" class=\"dataframe\">\n",
       "  <thead>\n",
       "    <tr style=\"text-align: right;\">\n",
       "      <th></th>\n",
       "      <th>Id</th>\n",
       "      <th>MSSubClass</th>\n",
       "      <th>MSZoning</th>\n",
       "      <th>LotFrontage</th>\n",
       "      <th>LotArea</th>\n",
       "      <th>Street</th>\n",
       "      <th>LotShape</th>\n",
       "      <th>LandContour</th>\n",
       "      <th>Utilities</th>\n",
       "      <th>LotConfig</th>\n",
       "      <th>...</th>\n",
       "      <th>ScreenPorch</th>\n",
       "      <th>PoolArea</th>\n",
       "      <th>Fence</th>\n",
       "      <th>MiscVal</th>\n",
       "      <th>MoSold</th>\n",
       "      <th>YrSold</th>\n",
       "      <th>SaleType</th>\n",
       "      <th>SaleCondition</th>\n",
       "      <th>SalePrice</th>\n",
       "      <th>hasHightFacility</th>\n",
       "    </tr>\n",
       "  </thead>\n",
       "  <tbody>\n",
       "    <tr>\n",
       "      <th>1298</th>\n",
       "      <td>1299</td>\n",
       "      <td>60</td>\n",
       "      <td>RL</td>\n",
       "      <td>313.0</td>\n",
       "      <td>63887</td>\n",
       "      <td>Pave</td>\n",
       "      <td>IR3</td>\n",
       "      <td>Bnk</td>\n",
       "      <td>AllPub</td>\n",
       "      <td>Corner</td>\n",
       "      <td>...</td>\n",
       "      <td>0</td>\n",
       "      <td>480</td>\n",
       "      <td>NaN</td>\n",
       "      <td>0</td>\n",
       "      <td>1</td>\n",
       "      <td>2008</td>\n",
       "      <td>New</td>\n",
       "      <td>Partial</td>\n",
       "      <td>160000.0</td>\n",
       "      <td>1</td>\n",
       "    </tr>\n",
       "    <tr>\n",
       "      <th>2549</th>\n",
       "      <td>2550</td>\n",
       "      <td>20</td>\n",
       "      <td>RL</td>\n",
       "      <td>128.0</td>\n",
       "      <td>39290</td>\n",
       "      <td>Pave</td>\n",
       "      <td>IR1</td>\n",
       "      <td>Bnk</td>\n",
       "      <td>AllPub</td>\n",
       "      <td>Inside</td>\n",
       "      <td>...</td>\n",
       "      <td>0</td>\n",
       "      <td>0</td>\n",
       "      <td>NaN</td>\n",
       "      <td>17000</td>\n",
       "      <td>10</td>\n",
       "      <td>2007</td>\n",
       "      <td>New</td>\n",
       "      <td>Partial</td>\n",
       "      <td>NaN</td>\n",
       "      <td>0</td>\n",
       "    </tr>\n",
       "  </tbody>\n",
       "</table>\n",
       "<p>2 rows × 79 columns</p>\n",
       "</div>"
      ],
      "text/plain": [
       "        Id  MSSubClass MSZoning  LotFrontage  LotArea Street LotShape  \\\n",
       "1298  1299          60       RL        313.0    63887   Pave      IR3   \n",
       "2549  2550          20       RL        128.0    39290   Pave      IR1   \n",
       "\n",
       "     LandContour Utilities LotConfig  ... ScreenPorch PoolArea Fence MiscVal  \\\n",
       "1298         Bnk    AllPub    Corner  ...           0      480   NaN       0   \n",
       "2549         Bnk    AllPub    Inside  ...           0        0   NaN   17000   \n",
       "\n",
       "     MoSold YrSold  SaleType  SaleCondition  SalePrice  hasHightFacility  \n",
       "1298      1   2008       New        Partial   160000.0                 1  \n",
       "2549     10   2007       New        Partial        NaN                 0  \n",
       "\n",
       "[2 rows x 79 columns]"
      ]
     },
     "execution_count": 125,
     "metadata": {},
     "output_type": "execute_result"
    }
   ],
   "source": [
    "all_df[all_df[\"TotalBsmtSF\"] > 5000]"
   ]
  },
  {
   "cell_type": "code",
   "execution_count": 126,
   "metadata": {},
   "outputs": [
    {
     "data": {
      "text/plain": [
       "<Axes: xlabel='BsmtFinSF1', ylabel='SalePrice'>"
      ]
     },
     "execution_count": 126,
     "metadata": {},
     "output_type": "execute_result"
    },
    {
     "data": {
      "image/png": "[encoded data removed]",
      "text/plain": [
       "<Figure size 640x480 with 1 Axes>"
      ]
     },
     "metadata": {},
     "output_type": "display_data"
    }
   ],
   "source": [
    "all_df.plot.scatter(x=\"BsmtFinSF1\", y=\"SalePrice\")"
   ]
  },
  {
   "cell_type": "code",
   "execution_count": 127,
   "metadata": {},
   "outputs": [
    {
     "data": {
      "text/html": [
       "<div>\n",
       "<style scoped>\n",
       "    .dataframe tbody tr th:only-of-type {\n",
       "        vertical-align: middle;\n",
       "    }\n",
       "\n",
       "    .dataframe tbody tr th {\n",
       "        vertical-align: top;\n",
       "    }\n",
       "\n",
       "    .dataframe thead th {\n",
       "        text-align: right;\n",
       "    }\n",
       "</style>\n",
       "<table border=\"1\" class=\"dataframe\">\n",
       "  <thead>\n",
       "    <tr style=\"text-align: right;\">\n",
       "      <th></th>\n",
       "      <th>Id</th>\n",
       "      <th>MSSubClass</th>\n",
       "      <th>MSZoning</th>\n",
       "      <th>LotFrontage</th>\n",
       "      <th>LotArea</th>\n",
       "      <th>Street</th>\n",
       "      <th>LotShape</th>\n",
       "      <th>LandContour</th>\n",
       "      <th>Utilities</th>\n",
       "      <th>LotConfig</th>\n",
       "      <th>...</th>\n",
       "      <th>ScreenPorch</th>\n",
       "      <th>PoolArea</th>\n",
       "      <th>Fence</th>\n",
       "      <th>MiscVal</th>\n",
       "      <th>MoSold</th>\n",
       "      <th>YrSold</th>\n",
       "      <th>SaleType</th>\n",
       "      <th>SaleCondition</th>\n",
       "      <th>SalePrice</th>\n",
       "      <th>hasHightFacility</th>\n",
       "    </tr>\n",
       "  </thead>\n",
       "  <tbody>\n",
       "    <tr>\n",
       "      <th>1298</th>\n",
       "      <td>1299</td>\n",
       "      <td>60</td>\n",
       "      <td>RL</td>\n",
       "      <td>313.0</td>\n",
       "      <td>63887</td>\n",
       "      <td>Pave</td>\n",
       "      <td>IR3</td>\n",
       "      <td>Bnk</td>\n",
       "      <td>AllPub</td>\n",
       "      <td>Corner</td>\n",
       "      <td>...</td>\n",
       "      <td>0</td>\n",
       "      <td>480</td>\n",
       "      <td>NaN</td>\n",
       "      <td>0</td>\n",
       "      <td>1</td>\n",
       "      <td>2008</td>\n",
       "      <td>New</td>\n",
       "      <td>Partial</td>\n",
       "      <td>160000.0</td>\n",
       "      <td>1</td>\n",
       "    </tr>\n",
       "  </tbody>\n",
       "</table>\n",
       "<p>1 rows × 79 columns</p>\n",
       "</div>"
      ],
      "text/plain": [
       "        Id  MSSubClass MSZoning  LotFrontage  LotArea Street LotShape  \\\n",
       "1298  1299          60       RL        313.0    63887   Pave      IR3   \n",
       "\n",
       "     LandContour Utilities LotConfig  ... ScreenPorch PoolArea Fence MiscVal  \\\n",
       "1298         Bnk    AllPub    Corner  ...           0      480   NaN       0   \n",
       "\n",
       "     MoSold YrSold  SaleType  SaleCondition  SalePrice  hasHightFacility  \n",
       "1298      1   2008       New        Partial   160000.0                 1  \n",
       "\n",
       "[1 rows x 79 columns]"
      ]
     },
     "execution_count": 127,
     "metadata": {},
     "output_type": "execute_result"
    }
   ],
   "source": [
    "all_df[all_df[\"TotalBsmtSF\"] > 6000]"
   ]
  },
  {
   "cell_type": "code",
   "execution_count": 128,
   "metadata": {},
   "outputs": [
    {
     "data": {
      "text/plain": [
       "<Axes: xlabel='BsmtFinSF1', ylabel='SalePrice'>"
      ]
     },
     "execution_count": 128,
     "metadata": {},
     "output_type": "execute_result"
    },
    {
     "data": {
      "image/png": "[encoded data removed]",
      "text/plain": [
       "<Figure size 640x480 with 1 Axes>"
      ]
     },
     "metadata": {},
     "output_type": "display_data"
    }
   ],
   "source": [
    "all_df.plot.scatter(x=\"BsmtFinSF1\", y=\"SalePrice\")"
   ]
  },
  {
   "cell_type": "code",
   "execution_count": 129,
   "metadata": {},
   "outputs": [
    {
     "data": {
      "text/html": [
       "<div>\n",
       "<style scoped>\n",
       "    .dataframe tbody tr th:only-of-type {\n",
       "        vertical-align: middle;\n",
       "    }\n",
       "\n",
       "    .dataframe tbody tr th {\n",
       "        vertical-align: top;\n",
       "    }\n",
       "\n",
       "    .dataframe thead th {\n",
       "        text-align: right;\n",
       "    }\n",
       "</style>\n",
       "<table border=\"1\" class=\"dataframe\">\n",
       "  <thead>\n",
       "    <tr style=\"text-align: right;\">\n",
       "      <th></th>\n",
       "      <th>Id</th>\n",
       "      <th>MSSubClass</th>\n",
       "      <th>MSZoning</th>\n",
       "      <th>LotFrontage</th>\n",
       "      <th>LotArea</th>\n",
       "      <th>Street</th>\n",
       "      <th>LotShape</th>\n",
       "      <th>LandContour</th>\n",
       "      <th>Utilities</th>\n",
       "      <th>LotConfig</th>\n",
       "      <th>...</th>\n",
       "      <th>ScreenPorch</th>\n",
       "      <th>PoolArea</th>\n",
       "      <th>Fence</th>\n",
       "      <th>MiscVal</th>\n",
       "      <th>MoSold</th>\n",
       "      <th>YrSold</th>\n",
       "      <th>SaleType</th>\n",
       "      <th>SaleCondition</th>\n",
       "      <th>SalePrice</th>\n",
       "      <th>hasHightFacility</th>\n",
       "    </tr>\n",
       "  </thead>\n",
       "  <tbody>\n",
       "    <tr>\n",
       "      <th>1298</th>\n",
       "      <td>1299</td>\n",
       "      <td>60</td>\n",
       "      <td>RL</td>\n",
       "      <td>313.0</td>\n",
       "      <td>63887</td>\n",
       "      <td>Pave</td>\n",
       "      <td>IR3</td>\n",
       "      <td>Bnk</td>\n",
       "      <td>AllPub</td>\n",
       "      <td>Corner</td>\n",
       "      <td>...</td>\n",
       "      <td>0</td>\n",
       "      <td>480</td>\n",
       "      <td>NaN</td>\n",
       "      <td>0</td>\n",
       "      <td>1</td>\n",
       "      <td>2008</td>\n",
       "      <td>New</td>\n",
       "      <td>Partial</td>\n",
       "      <td>160000.0</td>\n",
       "      <td>1</td>\n",
       "    </tr>\n",
       "    <tr>\n",
       "      <th>2549</th>\n",
       "      <td>2550</td>\n",
       "      <td>20</td>\n",
       "      <td>RL</td>\n",
       "      <td>128.0</td>\n",
       "      <td>39290</td>\n",
       "      <td>Pave</td>\n",
       "      <td>IR1</td>\n",
       "      <td>Bnk</td>\n",
       "      <td>AllPub</td>\n",
       "      <td>Inside</td>\n",
       "      <td>...</td>\n",
       "      <td>0</td>\n",
       "      <td>0</td>\n",
       "      <td>NaN</td>\n",
       "      <td>17000</td>\n",
       "      <td>10</td>\n",
       "      <td>2007</td>\n",
       "      <td>New</td>\n",
       "      <td>Partial</td>\n",
       "      <td>NaN</td>\n",
       "      <td>0</td>\n",
       "    </tr>\n",
       "  </tbody>\n",
       "</table>\n",
       "<p>2 rows × 79 columns</p>\n",
       "</div>"
      ],
      "text/plain": [
       "        Id  MSSubClass MSZoning  LotFrontage  LotArea Street LotShape  \\\n",
       "1298  1299          60       RL        313.0    63887   Pave      IR3   \n",
       "2549  2550          20       RL        128.0    39290   Pave      IR1   \n",
       "\n",
       "     LandContour Utilities LotConfig  ... ScreenPorch PoolArea Fence MiscVal  \\\n",
       "1298         Bnk    AllPub    Corner  ...           0      480   NaN       0   \n",
       "2549         Bnk    AllPub    Inside  ...           0        0   NaN   17000   \n",
       "\n",
       "     MoSold YrSold  SaleType  SaleCondition  SalePrice  hasHightFacility  \n",
       "1298      1   2008       New        Partial   160000.0                 1  \n",
       "2549     10   2007       New        Partial        NaN                 0  \n",
       "\n",
       "[2 rows x 79 columns]"
      ]
     },
     "execution_count": 129,
     "metadata": {},
     "output_type": "execute_result"
    }
   ],
   "source": [
    "all_df[all_df[\"GrLivArea\"] > 5000]"
   ]
  },
  {
   "cell_type": "code",
   "execution_count": 130,
   "metadata": {},
   "outputs": [
    {
     "data": {
      "text/plain": [
       "<Axes: xlabel='BsmtFinSF1', ylabel='SalePrice'>"
      ]
     },
     "execution_count": 130,
     "metadata": {},
     "output_type": "execute_result"
    },
    {
     "data": {
      "image/png": "[encoded data removed]",
      "text/plain": [
       "<Figure size 640x480 with 1 Axes>"
      ]
     },
     "metadata": {},
     "output_type": "display_data"
    }
   ],
   "source": [
    "all_df.plot.scatter(x=\"BsmtFinSF1\", y=\"SalePrice\")"
   ]
  },
  {
   "cell_type": "code",
   "execution_count": 132,
   "metadata": {},
   "outputs": [
    {
     "data": {
      "text/html": [
       "<div>\n",
       "<style scoped>\n",
       "    .dataframe tbody tr th:only-of-type {\n",
       "        vertical-align: middle;\n",
       "    }\n",
       "\n",
       "    .dataframe tbody tr th {\n",
       "        vertical-align: top;\n",
       "    }\n",
       "\n",
       "    .dataframe thead th {\n",
       "        text-align: right;\n",
       "    }\n",
       "</style>\n",
       "<table border=\"1\" class=\"dataframe\">\n",
       "  <thead>\n",
       "    <tr style=\"text-align: right;\">\n",
       "      <th></th>\n",
       "      <th>Id</th>\n",
       "      <th>MSSubClass</th>\n",
       "      <th>MSZoning</th>\n",
       "      <th>LotFrontage</th>\n",
       "      <th>LotArea</th>\n",
       "      <th>Street</th>\n",
       "      <th>LotShape</th>\n",
       "      <th>LandContour</th>\n",
       "      <th>Utilities</th>\n",
       "      <th>LotConfig</th>\n",
       "      <th>...</th>\n",
       "      <th>ScreenPorch</th>\n",
       "      <th>PoolArea</th>\n",
       "      <th>Fence</th>\n",
       "      <th>MiscVal</th>\n",
       "      <th>MoSold</th>\n",
       "      <th>YrSold</th>\n",
       "      <th>SaleType</th>\n",
       "      <th>SaleCondition</th>\n",
       "      <th>SalePrice</th>\n",
       "      <th>hasHightFacility</th>\n",
       "    </tr>\n",
       "  </thead>\n",
       "  <tbody>\n",
       "    <tr>\n",
       "      <th>1298</th>\n",
       "      <td>1299</td>\n",
       "      <td>60</td>\n",
       "      <td>RL</td>\n",
       "      <td>313.0</td>\n",
       "      <td>63887</td>\n",
       "      <td>Pave</td>\n",
       "      <td>IR3</td>\n",
       "      <td>Bnk</td>\n",
       "      <td>AllPub</td>\n",
       "      <td>Corner</td>\n",
       "      <td>...</td>\n",
       "      <td>0</td>\n",
       "      <td>480</td>\n",
       "      <td>NaN</td>\n",
       "      <td>0</td>\n",
       "      <td>1</td>\n",
       "      <td>2008</td>\n",
       "      <td>New</td>\n",
       "      <td>Partial</td>\n",
       "      <td>160000.0</td>\n",
       "      <td>1</td>\n",
       "    </tr>\n",
       "    <tr>\n",
       "      <th>2549</th>\n",
       "      <td>2550</td>\n",
       "      <td>20</td>\n",
       "      <td>RL</td>\n",
       "      <td>128.0</td>\n",
       "      <td>39290</td>\n",
       "      <td>Pave</td>\n",
       "      <td>IR1</td>\n",
       "      <td>Bnk</td>\n",
       "      <td>AllPub</td>\n",
       "      <td>Inside</td>\n",
       "      <td>...</td>\n",
       "      <td>0</td>\n",
       "      <td>0</td>\n",
       "      <td>NaN</td>\n",
       "      <td>17000</td>\n",
       "      <td>10</td>\n",
       "      <td>2007</td>\n",
       "      <td>New</td>\n",
       "      <td>Partial</td>\n",
       "      <td>NaN</td>\n",
       "      <td>0</td>\n",
       "    </tr>\n",
       "  </tbody>\n",
       "</table>\n",
       "<p>2 rows × 79 columns</p>\n",
       "</div>"
      ],
      "text/plain": [
       "        Id  MSSubClass MSZoning  LotFrontage  LotArea Street LotShape  \\\n",
       "1298  1299          60       RL        313.0    63887   Pave      IR3   \n",
       "2549  2550          20       RL        128.0    39290   Pave      IR1   \n",
       "\n",
       "     LandContour Utilities LotConfig  ... ScreenPorch PoolArea Fence MiscVal  \\\n",
       "1298         Bnk    AllPub    Corner  ...           0      480   NaN       0   \n",
       "2549         Bnk    AllPub    Inside  ...           0        0   NaN   17000   \n",
       "\n",
       "     MoSold YrSold  SaleType  SaleCondition  SalePrice  hasHightFacility  \n",
       "1298      1   2008       New        Partial   160000.0                 1  \n",
       "2549     10   2007       New        Partial        NaN                 0  \n",
       "\n",
       "[2 rows x 79 columns]"
      ]
     },
     "execution_count": 132,
     "metadata": {},
     "output_type": "execute_result"
    }
   ],
   "source": [
    "all_df[all_df[\"1stFlrSF\"] > 4000]"
   ]
  },
  {
   "cell_type": "code",
   "execution_count": 143,
   "metadata": {},
   "outputs": [],
   "source": [
    "all_df = all_df[(all_df['BsmtFinSF1'] < 2000) | (all_df['SalePrice'].isnull())]\n",
    "all_df = all_df[(all_df['TotalBsmtSF'] < 3000) | (all_df['SalePrice'].isnull())]\n",
    "all_df = all_df[(all_df['GrLivArea'] < 4500) | (all_df['SalePrice'].isnull())]\n",
    "all_df = all_df[(all_df['1stFlrSF'] < 2500) | (all_df['SalePrice'].isnull())]\n",
    "all_df = all_df[(all_df['LotArea'] < 10000) | (all_df['SalePrice'].isnull())]"
   ]
  },
  {
   "cell_type": "code",
   "execution_count": 144,
   "metadata": {},
   "outputs": [],
   "source": [
    "categories = categories.drop([\"PoolQC\", \"MiscFeature\",\"Alley\"])"
   ]
  },
  {
   "cell_type": "code",
   "execution_count": 145,
   "metadata": {},
   "outputs": [
    {
     "name": "stdout",
     "output_type": "stream",
     "text": [
      "MSZoning\n",
      "Street\n",
      "LotShape\n",
      "LandContour\n",
      "Utilities\n",
      "LotConfig\n",
      "LandSlope\n",
      "Neighborhood\n",
      "Condition1\n",
      "Condition2\n",
      "BldgType\n",
      "HouseStyle\n",
      "RoofStyle\n",
      "RoofMatl\n",
      "Exterior1st\n",
      "Exterior2nd\n",
      "MasVnrType\n",
      "ExterQual\n",
      "ExterCond\n",
      "Foundation\n",
      "BsmtQual\n",
      "BsmtCond\n",
      "BsmtExposure\n",
      "BsmtFinType1\n",
      "BsmtFinType2\n",
      "Heating\n",
      "HeatingQC\n",
      "CentralAir\n",
      "Electrical\n",
      "KitchenQual\n",
      "Functional\n",
      "FireplaceQu\n",
      "GarageType\n",
      "GarageFinish\n",
      "GarageQual\n",
      "GarageCond\n",
      "PavedDrive\n",
      "Fence\n",
      "SaleType\n",
      "SaleCondition\n"
     ]
    }
   ],
   "source": [
    "for cat in categories:\n",
    "    le= LabelEncoder()\n",
    "    print(cat)\n",
    "    all_df[cat].fillna(\"missing\", inplace=True)\n",
    "    le = le.fit(all_df[cat])\n",
    "    all_df[cat] = le.transform(all_df[cat])\n",
    "    all_df[cat] = all_df[cat].astype(\"category\")"
   ]
  },
  {
   "cell_type": "code",
   "execution_count": 159,
   "metadata": {},
   "outputs": [],
   "source": [
    "train_df_le = all_df[~all_df[\"SalePrice\"].isnull()]\n",
    "test_df_le = all_df[all_df[\"SalePrice\"].isnull()]\n",
    "\n",
    "train_df_le[\"SalePrice_log\"] = np.log(train_df_le[\"SalePrice\"])\n",
    "train_X = train_df_le.drop([\"SalePrice\", \"SalePrice_log\", \"Id\"], axis=1)\n",
    "train_Y = train_df_le[\"SalePrice_log\"]"
   ]
  },
  {
   "cell_type": "code",
   "execution_count": 160,
   "metadata": {},
   "outputs": [
    {
     "ename": "TypeError",
     "evalue": "train() got an unexpected keyword argument 'early_stopping_rounds'",
     "output_type": "error",
     "traceback": [
      "\u001b[1;31m---------------------------------------------------------------------------\u001b[0m",
      "\u001b[1;31mTypeError\u001b[0m                                 Traceback (most recent call last)",
      "\u001b[1;32mc:\\Users\\admin\\dlgksk\\House_Peices\\data.ipynb Cell 74\u001b[0m line \u001b[0;36m1\n\u001b[0;32m     <a href='vscode-notebook-cell:/c%3A/Users/admin/dlgksk/House_Peices/data.ipynb#Y251sZmlsZQ%3D%3D?line=10'>11</a>\u001b[0m lgb_train \u001b[39m=\u001b[39m lgb\u001b[39m.\u001b[39mDataset(X_train, y_train)\n\u001b[0;32m     <a href='vscode-notebook-cell:/c%3A/Users/admin/dlgksk/House_Peices/data.ipynb#Y251sZmlsZQ%3D%3D?line=11'>12</a>\u001b[0m lgb_eval \u001b[39m=\u001b[39m lgb\u001b[39m.\u001b[39mDataset(X_valid, y_valid, reference\u001b[39m=\u001b[39mlgb_train)\n\u001b[1;32m---> <a href='vscode-notebook-cell:/c%3A/Users/admin/dlgksk/House_Peices/data.ipynb#Y251sZmlsZQ%3D%3D?line=13'>14</a>\u001b[0m model_lgb \u001b[39m=\u001b[39m lgb\u001b[39m.\u001b[39mtrain(\n\u001b[0;32m     <a href='vscode-notebook-cell:/c%3A/Users/admin/dlgksk/House_Peices/data.ipynb#Y251sZmlsZQ%3D%3D?line=14'>15</a>\u001b[0m     lgbm_params,\n\u001b[0;32m     <a href='vscode-notebook-cell:/c%3A/Users/admin/dlgksk/House_Peices/data.ipynb#Y251sZmlsZQ%3D%3D?line=15'>16</a>\u001b[0m     lgb_train,\n\u001b[0;32m     <a href='vscode-notebook-cell:/c%3A/Users/admin/dlgksk/House_Peices/data.ipynb#Y251sZmlsZQ%3D%3D?line=16'>17</a>\u001b[0m     valid_sets\u001b[39m=\u001b[39mlgb_eval,\n\u001b[0;32m     <a href='vscode-notebook-cell:/c%3A/Users/admin/dlgksk/House_Peices/data.ipynb#Y251sZmlsZQ%3D%3D?line=17'>18</a>\u001b[0m     num_boost_round\u001b[39m=\u001b[39m\u001b[39m100\u001b[39m,\n\u001b[0;32m     <a href='vscode-notebook-cell:/c%3A/Users/admin/dlgksk/House_Peices/data.ipynb#Y251sZmlsZQ%3D%3D?line=18'>19</a>\u001b[0m     early_stopping_rounds\u001b[39m=\u001b[39m\u001b[39m20\u001b[39m,\n\u001b[0;32m     <a href='vscode-notebook-cell:/c%3A/Users/admin/dlgksk/House_Peices/data.ipynb#Y251sZmlsZQ%3D%3D?line=19'>20</a>\u001b[0m     verbose_eval\u001b[39m=\u001b[39m\u001b[39m10\u001b[39m,\n\u001b[0;32m     <a href='vscode-notebook-cell:/c%3A/Users/admin/dlgksk/House_Peices/data.ipynb#Y251sZmlsZQ%3D%3D?line=20'>21</a>\u001b[0m )\n\u001b[0;32m     <a href='vscode-notebook-cell:/c%3A/Users/admin/dlgksk/House_Peices/data.ipynb#Y251sZmlsZQ%3D%3D?line=22'>23</a>\u001b[0m y_pred \u001b[39m=\u001b[39m model_lgb\u001b[39m.\u001b[39mpredict(X_valid, num_iteration\u001b[39m=\u001b[39mmodel_lgb\u001b[39m.\u001b[39mbest_iteration)\n\u001b[0;32m     <a href='vscode-notebook-cell:/c%3A/Users/admin/dlgksk/House_Peices/data.ipynb#Y251sZmlsZQ%3D%3D?line=23'>24</a>\u001b[0m tmp_rmse \u001b[39m=\u001b[39m np\u001b[39m.\u001b[39msqrt(mean_squared_error(y_valid, y_pred))\n",
      "\u001b[1;31mTypeError\u001b[0m: train() got an unexpected keyword argument 'early_stopping_rounds'"
     ]
    }
   ],
   "source": [
    "models = []\n",
    "rmses = []\n",
    "oof = np.zeros(len(train_X))\n",
    "\n",
    "for train_index, val_index in kf.split(train_X):\n",
    "    X_train = train_X.iloc[train_index]\n",
    "    X_valid = train_X.iloc[val_index]\n",
    "    y_train = train_Y.iloc[train_index]\n",
    "    y_valid = train_Y.iloc[val_index]\n",
    "\n",
    "    lgb_train = lgb.Dataset(X_train, y_train)\n",
    "    lgb_eval = lgb.Dataset(X_valid, y_valid, reference=lgb_train)\n",
    "\n",
    "    model_lgb = lgb.train(\n",
    "        lgbm_params,\n",
    "        lgb_train,\n",
    "        valid_sets=lgb_eval,\n",
    "        num_boost_round=100,\n",
    "        early_stopping_rounds=20,\n",
    "        verbose_eval=10,\n",
    "    )\n",
    "\n",
    "    y_pred = model_lgb.predict(X_valid, num_iteration=model_lgb.best_iteration)\n",
    "    tmp_rmse = np.sqrt(mean_squared_error(y_valid, y_pred))\n",
    "    print(tmp_rmse)\n",
    "\n",
    "    models.append(model_lgb)\n",
    "    rmses.append(tmp_rmse)\n",
    "    oof[val_index] = y_pred  "
   ]
  },
  {
   "cell_type": "code",
   "execution_count": 171,
   "metadata": {},
   "outputs": [
    {
     "ename": "ZeroDivisionError",
     "evalue": "division by zero",
     "output_type": "error",
     "traceback": [
      "\u001b[1;31m---------------------------------------------------------------------------\u001b[0m",
      "\u001b[1;31mZeroDivisionError\u001b[0m                         Traceback (most recent call last)",
      "\u001b[1;32mc:\\Users\\admin\\dlgksk\\House_Peices\\data.ipynb Cell 75\u001b[0m line \u001b[0;36m1\n\u001b[1;32m----> <a href='vscode-notebook-cell:/c%3A/Users/admin/dlgksk/House_Peices/data.ipynb#Y252sZmlsZQ%3D%3D?line=0'>1</a>\u001b[0m \u001b[39msum\u001b[39m(rmses)\u001b[39m/\u001b[39m\u001b[39mlen\u001b[39m(rmses)\n",
      "\u001b[1;31mZeroDivisionError\u001b[0m: division by zero"
     ]
    }
   ],
   "source": [
    "sum(rmses)/len(rmses)"
   ]
  },
  {
   "cell_type": "code",
   "execution_count": 172,
   "metadata": {},
   "outputs": [
    {
     "data": {
      "text/html": [
       "<div>\n",
       "<style scoped>\n",
       "    .dataframe tbody tr th:only-of-type {\n",
       "        vertical-align: middle;\n",
       "    }\n",
       "\n",
       "    .dataframe tbody tr th {\n",
       "        vertical-align: top;\n",
       "    }\n",
       "\n",
       "    .dataframe thead th {\n",
       "        text-align: right;\n",
       "    }\n",
       "</style>\n",
       "<table border=\"1\" class=\"dataframe\">\n",
       "  <thead>\n",
       "    <tr style=\"text-align: right;\">\n",
       "      <th></th>\n",
       "      <th>YearRemodAdd</th>\n",
       "      <th>GarageYrBlt</th>\n",
       "      <th>YrSold</th>\n",
       "    </tr>\n",
       "  </thead>\n",
       "  <tbody>\n",
       "    <tr>\n",
       "      <th>count</th>\n",
       "      <td>2295.000000</td>\n",
       "      <td>2150.000000</td>\n",
       "      <td>2295.000000</td>\n",
       "    </tr>\n",
       "    <tr>\n",
       "      <th>mean</th>\n",
       "      <td>1983.442702</td>\n",
       "      <td>1977.384186</td>\n",
       "      <td>2007.800871</td>\n",
       "    </tr>\n",
       "    <tr>\n",
       "      <th>std</th>\n",
       "      <td>21.271568</td>\n",
       "      <td>26.175435</td>\n",
       "      <td>1.309545</td>\n",
       "    </tr>\n",
       "    <tr>\n",
       "      <th>min</th>\n",
       "      <td>1950.000000</td>\n",
       "      <td>1895.000000</td>\n",
       "      <td>2006.000000</td>\n",
       "    </tr>\n",
       "    <tr>\n",
       "      <th>25%</th>\n",
       "      <td>1963.000000</td>\n",
       "      <td>1959.000000</td>\n",
       "      <td>2007.000000</td>\n",
       "    </tr>\n",
       "    <tr>\n",
       "      <th>50%</th>\n",
       "      <td>1992.000000</td>\n",
       "      <td>1979.000000</td>\n",
       "      <td>2008.000000</td>\n",
       "    </tr>\n",
       "    <tr>\n",
       "      <th>75%</th>\n",
       "      <td>2003.000000</td>\n",
       "      <td>2002.000000</td>\n",
       "      <td>2009.000000</td>\n",
       "    </tr>\n",
       "    <tr>\n",
       "      <th>max</th>\n",
       "      <td>2010.000000</td>\n",
       "      <td>2207.000000</td>\n",
       "      <td>2010.000000</td>\n",
       "    </tr>\n",
       "  </tbody>\n",
       "</table>\n",
       "</div>"
      ],
      "text/plain": [
       "       YearRemodAdd  GarageYrBlt       YrSold\n",
       "count   2295.000000  2150.000000  2295.000000\n",
       "mean    1983.442702  1977.384186  2007.800871\n",
       "std       21.271568    26.175435     1.309545\n",
       "min     1950.000000  1895.000000  2006.000000\n",
       "25%     1963.000000  1959.000000  2007.000000\n",
       "50%     1992.000000  1979.000000  2008.000000\n",
       "75%     2003.000000  2002.000000  2009.000000\n",
       "max     2010.000000  2207.000000  2010.000000"
      ]
     },
     "execution_count": 172,
     "metadata": {},
     "output_type": "execute_result"
    }
   ],
   "source": [
    "all_df[[\"YearRemodAdd\", \"GarageYrBlt\", \"YrSold\"]].describe()"
   ]
  },
  {
   "cell_type": "code",
   "execution_count": 173,
   "metadata": {},
   "outputs": [],
   "source": [
    "all_df[\"Age\"] = all_df[\"YrSold\"] = all_df[\"YearBuilt\"]"
   ]
  },
  {
   "cell_type": "code",
   "execution_count": 174,
   "metadata": {},
   "outputs": [
    {
     "ename": "SyntaxError",
     "evalue": "invalid decimal literal (3087826162.py, line 1)",
     "output_type": "error",
     "traceback": [
      "\u001b[1;36m  Cell \u001b[1;32mIn[174], line 1\u001b[1;36m\u001b[0m\n\u001b[1;33m    (...생략: 코드 4-56의 반복...)\u001b[0m\n\u001b[1;37m                  ^\u001b[0m\n\u001b[1;31mSyntaxError\u001b[0m\u001b[1;31m:\u001b[0m invalid decimal literal\n"
     ]
    }
   ],
   "source": [
    "(...생략: 코드 4-56의 반복...)"
   ]
  },
  {
   "cell_type": "code",
   "execution_count": 175,
   "metadata": {},
   "outputs": [
    {
     "ename": "ZeroDivisionError",
     "evalue": "division by zero",
     "output_type": "error",
     "traceback": [
      "\u001b[1;31m---------------------------------------------------------------------------\u001b[0m",
      "\u001b[1;31mZeroDivisionError\u001b[0m                         Traceback (most recent call last)",
      "\u001b[1;32mc:\\Users\\admin\\dlgksk\\House_Peices\\data.ipynb Cell 79\u001b[0m line \u001b[0;36m1\n\u001b[1;32m----> <a href='vscode-notebook-cell:/c%3A/Users/admin/dlgksk/House_Peices/data.ipynb#Y260sZmlsZQ%3D%3D?line=0'>1</a>\u001b[0m \u001b[39msum\u001b[39m(rmses)\u001b[39m/\u001b[39m\u001b[39mlen\u001b[39m(rmses)\n",
      "\u001b[1;31mZeroDivisionError\u001b[0m: division by zero"
     ]
    }
   ],
   "source": [
    "sum(rmses)/len(rmses)"
   ]
  },
  {
   "cell_type": "code",
   "execution_count": 176,
   "metadata": {},
   "outputs": [
    {
     "data": {
      "text/html": [
       "<div>\n",
       "<style scoped>\n",
       "    .dataframe tbody tr th:only-of-type {\n",
       "        vertical-align: middle;\n",
       "    }\n",
       "\n",
       "    .dataframe tbody tr th {\n",
       "        vertical-align: top;\n",
       "    }\n",
       "\n",
       "    .dataframe thead th {\n",
       "        text-align: right;\n",
       "    }\n",
       "</style>\n",
       "<table border=\"1\" class=\"dataframe\">\n",
       "  <thead>\n",
       "    <tr style=\"text-align: right;\">\n",
       "      <th></th>\n",
       "      <th>LotArea</th>\n",
       "      <th>MasVnrArea</th>\n",
       "      <th>BsmtUnfSF</th>\n",
       "      <th>1stFlrSF</th>\n",
       "      <th>2ndFlrSF</th>\n",
       "      <th>LowQualFinSF</th>\n",
       "      <th>GrLivArea</th>\n",
       "      <th>GarageArea</th>\n",
       "      <th>WoodDeckSF</th>\n",
       "      <th>OpenPorchSF</th>\n",
       "      <th>EnclosedPorch</th>\n",
       "      <th>3SsnPorch</th>\n",
       "      <th>ScreenPorch</th>\n",
       "      <th>PoolArea</th>\n",
       "      <th>LotFrontage</th>\n",
       "    </tr>\n",
       "  </thead>\n",
       "  <tbody>\n",
       "    <tr>\n",
       "      <th>count</th>\n",
       "      <td>2295.000000</td>\n",
       "      <td>2276.000000</td>\n",
       "      <td>2294.000000</td>\n",
       "      <td>2295.000000</td>\n",
       "      <td>2295.00000</td>\n",
       "      <td>2295.000000</td>\n",
       "      <td>2295.000000</td>\n",
       "      <td>2294.000000</td>\n",
       "      <td>2295.000000</td>\n",
       "      <td>2295.000000</td>\n",
       "      <td>2295.000000</td>\n",
       "      <td>2295.000000</td>\n",
       "      <td>2295.000000</td>\n",
       "      <td>2295.000000</td>\n",
       "      <td>1950.000000</td>\n",
       "    </tr>\n",
       "    <tr>\n",
       "      <th>mean</th>\n",
       "      <td>8889.566449</td>\n",
       "      <td>90.452109</td>\n",
       "      <td>545.081953</td>\n",
       "      <td>1112.132462</td>\n",
       "      <td>315.40610</td>\n",
       "      <td>4.154248</td>\n",
       "      <td>1431.692810</td>\n",
       "      <td>450.726678</td>\n",
       "      <td>86.973856</td>\n",
       "      <td>44.905882</td>\n",
       "      <td>24.190850</td>\n",
       "      <td>1.781699</td>\n",
       "      <td>14.704575</td>\n",
       "      <td>1.359913</td>\n",
       "      <td>65.688718</td>\n",
       "    </tr>\n",
       "    <tr>\n",
       "      <th>std</th>\n",
       "      <td>4346.447797</td>\n",
       "      <td>167.087651</td>\n",
       "      <td>423.944232</td>\n",
       "      <td>367.247419</td>\n",
       "      <td>408.65849</td>\n",
       "      <td>44.022550</td>\n",
       "      <td>462.137246</td>\n",
       "      <td>211.210886</td>\n",
       "      <td>121.853336</td>\n",
       "      <td>65.620297</td>\n",
       "      <td>64.978993</td>\n",
       "      <td>19.190070</td>\n",
       "      <td>52.125576</td>\n",
       "      <td>27.122480</td>\n",
       "      <td>21.007830</td>\n",
       "    </tr>\n",
       "    <tr>\n",
       "      <th>min</th>\n",
       "      <td>1300.000000</td>\n",
       "      <td>0.000000</td>\n",
       "      <td>0.000000</td>\n",
       "      <td>334.000000</td>\n",
       "      <td>0.00000</td>\n",
       "      <td>0.000000</td>\n",
       "      <td>334.000000</td>\n",
       "      <td>0.000000</td>\n",
       "      <td>0.000000</td>\n",
       "      <td>0.000000</td>\n",
       "      <td>0.000000</td>\n",
       "      <td>0.000000</td>\n",
       "      <td>0.000000</td>\n",
       "      <td>0.000000</td>\n",
       "      <td>21.000000</td>\n",
       "    </tr>\n",
       "    <tr>\n",
       "      <th>25%</th>\n",
       "      <td>7000.000000</td>\n",
       "      <td>0.000000</td>\n",
       "      <td>216.000000</td>\n",
       "      <td>858.500000</td>\n",
       "      <td>0.00000</td>\n",
       "      <td>0.000000</td>\n",
       "      <td>1092.000000</td>\n",
       "      <td>308.000000</td>\n",
       "      <td>0.000000</td>\n",
       "      <td>0.000000</td>\n",
       "      <td>0.000000</td>\n",
       "      <td>0.000000</td>\n",
       "      <td>0.000000</td>\n",
       "      <td>0.000000</td>\n",
       "      <td>54.000000</td>\n",
       "    </tr>\n",
       "    <tr>\n",
       "      <th>50%</th>\n",
       "      <td>8688.000000</td>\n",
       "      <td>0.000000</td>\n",
       "      <td>460.000000</td>\n",
       "      <td>1043.000000</td>\n",
       "      <td>0.00000</td>\n",
       "      <td>0.000000</td>\n",
       "      <td>1374.000000</td>\n",
       "      <td>460.000000</td>\n",
       "      <td>0.000000</td>\n",
       "      <td>24.000000</td>\n",
       "      <td>0.000000</td>\n",
       "      <td>0.000000</td>\n",
       "      <td>0.000000</td>\n",
       "      <td>0.000000</td>\n",
       "      <td>65.000000</td>\n",
       "    </tr>\n",
       "    <tr>\n",
       "      <th>75%</th>\n",
       "      <td>10167.000000</td>\n",
       "      <td>142.000000</td>\n",
       "      <td>785.000000</td>\n",
       "      <td>1326.500000</td>\n",
       "      <td>672.00000</td>\n",
       "      <td>0.000000</td>\n",
       "      <td>1668.000000</td>\n",
       "      <td>572.000000</td>\n",
       "      <td>159.000000</td>\n",
       "      <td>65.000000</td>\n",
       "      <td>0.000000</td>\n",
       "      <td>0.000000</td>\n",
       "      <td>0.000000</td>\n",
       "      <td>0.000000</td>\n",
       "      <td>76.000000</td>\n",
       "    </tr>\n",
       "    <tr>\n",
       "      <th>max</th>\n",
       "      <td>56600.000000</td>\n",
       "      <td>1600.000000</td>\n",
       "      <td>2140.000000</td>\n",
       "      <td>5095.000000</td>\n",
       "      <td>1862.00000</td>\n",
       "      <td>1064.000000</td>\n",
       "      <td>5095.000000</td>\n",
       "      <td>1488.000000</td>\n",
       "      <td>1424.000000</td>\n",
       "      <td>742.000000</td>\n",
       "      <td>1012.000000</td>\n",
       "      <td>360.000000</td>\n",
       "      <td>576.000000</td>\n",
       "      <td>800.000000</td>\n",
       "      <td>200.000000</td>\n",
       "    </tr>\n",
       "  </tbody>\n",
       "</table>\n",
       "</div>"
      ],
      "text/plain": [
       "            LotArea   MasVnrArea    BsmtUnfSF     1stFlrSF    2ndFlrSF  \\\n",
       "count   2295.000000  2276.000000  2294.000000  2295.000000  2295.00000   \n",
       "mean    8889.566449    90.452109   545.081953  1112.132462   315.40610   \n",
       "std     4346.447797   167.087651   423.944232   367.247419   408.65849   \n",
       "min     1300.000000     0.000000     0.000000   334.000000     0.00000   \n",
       "25%     7000.000000     0.000000   216.000000   858.500000     0.00000   \n",
       "50%     8688.000000     0.000000   460.000000  1043.000000     0.00000   \n",
       "75%    10167.000000   142.000000   785.000000  1326.500000   672.00000   \n",
       "max    56600.000000  1600.000000  2140.000000  5095.000000  1862.00000   \n",
       "\n",
       "       LowQualFinSF    GrLivArea   GarageArea   WoodDeckSF  OpenPorchSF  \\\n",
       "count   2295.000000  2295.000000  2294.000000  2295.000000  2295.000000   \n",
       "mean       4.154248  1431.692810   450.726678    86.973856    44.905882   \n",
       "std       44.022550   462.137246   211.210886   121.853336    65.620297   \n",
       "min        0.000000   334.000000     0.000000     0.000000     0.000000   \n",
       "25%        0.000000  1092.000000   308.000000     0.000000     0.000000   \n",
       "50%        0.000000  1374.000000   460.000000     0.000000    24.000000   \n",
       "75%        0.000000  1668.000000   572.000000   159.000000    65.000000   \n",
       "max     1064.000000  5095.000000  1488.000000  1424.000000   742.000000   \n",
       "\n",
       "       EnclosedPorch    3SsnPorch  ScreenPorch     PoolArea  LotFrontage  \n",
       "count    2295.000000  2295.000000  2295.000000  2295.000000  1950.000000  \n",
       "mean       24.190850     1.781699    14.704575     1.359913    65.688718  \n",
       "std        64.978993    19.190070    52.125576    27.122480    21.007830  \n",
       "min         0.000000     0.000000     0.000000     0.000000    21.000000  \n",
       "25%         0.000000     0.000000     0.000000     0.000000    54.000000  \n",
       "50%         0.000000     0.000000     0.000000     0.000000    65.000000  \n",
       "75%         0.000000     0.000000     0.000000     0.000000    76.000000  \n",
       "max      1012.000000   360.000000   576.000000   800.000000   200.000000  "
      ]
     },
     "execution_count": 176,
     "metadata": {},
     "output_type": "execute_result"
    }
   ],
   "source": [
    "all_df[\n",
    "    [\n",
    "        \"LotArea\",\n",
    "        \"MasVnrArea\",\n",
    "        \"BsmtUnfSF\",\n",
    "        \"1stFlrSF\",\n",
    "        \"2ndFlrSF\",\n",
    "        \"LowQualFinSF\",\n",
    "        \"GrLivArea\",\n",
    "        \"GarageArea\",\n",
    "        \"WoodDeckSF\",\n",
    "        \"OpenPorchSF\",\n",
    "        \"EnclosedPorch\",\n",
    "        \"3SsnPorch\",\n",
    "        \"ScreenPorch\",\n",
    "        \"PoolArea\",\n",
    "        \"LotFrontage\",\n",
    "    ]\n",
    "].describe()"
   ]
  },
  {
   "cell_type": "code",
   "execution_count": 177,
   "metadata": {},
   "outputs": [],
   "source": [
    "all_df[\"TotalSF\"] = all_df[\"TotalBsmtSF\"] + all_df[\"1stFlrSF\"] + all_df[\"2ndFlrSF\"]\n",
    "all_df[\"Total_bathrooms\"] = (\n",
    "    all_df[\"FullBath\"]\n",
    "    + all_df[\"HalfBath\"]\n",
    "    + all_df[\"BsmtFullBath\"]\n",
    "    + all_df[\"BsmtHalfBath\"]\n",
    ")"
   ]
  },
  {
   "cell_type": "code",
   "execution_count": 178,
   "metadata": {},
   "outputs": [],
   "source": [
    "all_df[\"Total_PorchSF\"] = (\n",
    "    all_df[\"OpenPorchSF\"]\n",
    "    + all_df[\"3SsnPorch\"]\n",
    "    + all_df[\"EnclosedPorch\"]\n",
    "    + all_df[\"ScreenPorch\"]\n",
    "    + all_df[\"WoodDeckSF\"]\n",
    ")"
   ]
  },
  {
   "cell_type": "code",
   "execution_count": 179,
   "metadata": {},
   "outputs": [],
   "source": [
    "all_df[\"hasPorch\"] = all_df[\"Total_PorchSF\"].apply(lambda x: 1 if x > 0 else 0)\n",
    "all_df = all_df.drop([\"Total_PorchSF\"], axis=1)"
   ]
  },
  {
   "cell_type": "code",
   "execution_count": 180,
   "metadata": {},
   "outputs": [],
   "source": [
    "\n",
    "train_df_le = all_df[~all_df[\"SalePrice\"].isnull()]\n",
    "test_df_le = all_df[all_df[\"SalePrice\"].isnull()]\n",
    "\n",
    "train_df_le[\"SalePrice_log\"] = np.log(train_df_le[\"SalePrice\"])\n",
    "train_X = train_df_le.drop([\"SalePrice\", \"SalePrice_log\", \"Id\"], axis=1)\n",
    "train_Y = train_df_le[\"SalePrice_log\"]"
   ]
  },
  {
   "cell_type": "code",
   "execution_count": 181,
   "metadata": {},
   "outputs": [
    {
     "ename": "TypeError",
     "evalue": "train() got an unexpected keyword argument 'early_stopping_rounds'",
     "output_type": "error",
     "traceback": [
      "\u001b[1;31m---------------------------------------------------------------------------\u001b[0m",
      "\u001b[1;31mTypeError\u001b[0m                                 Traceback (most recent call last)",
      "\u001b[1;32mc:\\Users\\admin\\dlgksk\\House_Peices\\data.ipynb Cell 85\u001b[0m line \u001b[0;36m1\n\u001b[0;32m     <a href='vscode-notebook-cell:/c%3A/Users/admin/dlgksk/House_Peices/data.ipynb#Y266sZmlsZQ%3D%3D?line=10'>11</a>\u001b[0m lgb_train \u001b[39m=\u001b[39m lgb\u001b[39m.\u001b[39mDataset(X_train, y_train)\n\u001b[0;32m     <a href='vscode-notebook-cell:/c%3A/Users/admin/dlgksk/House_Peices/data.ipynb#Y266sZmlsZQ%3D%3D?line=11'>12</a>\u001b[0m lgb_eval \u001b[39m=\u001b[39m lgb\u001b[39m.\u001b[39mDataset(X_valid, y_valid, reference\u001b[39m=\u001b[39mlgb_train)\n\u001b[1;32m---> <a href='vscode-notebook-cell:/c%3A/Users/admin/dlgksk/House_Peices/data.ipynb#Y266sZmlsZQ%3D%3D?line=13'>14</a>\u001b[0m model_lgb \u001b[39m=\u001b[39m lgb\u001b[39m.\u001b[39mtrain(\n\u001b[0;32m     <a href='vscode-notebook-cell:/c%3A/Users/admin/dlgksk/House_Peices/data.ipynb#Y266sZmlsZQ%3D%3D?line=14'>15</a>\u001b[0m     lgbm_params,\n\u001b[0;32m     <a href='vscode-notebook-cell:/c%3A/Users/admin/dlgksk/House_Peices/data.ipynb#Y266sZmlsZQ%3D%3D?line=15'>16</a>\u001b[0m     lgb_train,\n\u001b[0;32m     <a href='vscode-notebook-cell:/c%3A/Users/admin/dlgksk/House_Peices/data.ipynb#Y266sZmlsZQ%3D%3D?line=16'>17</a>\u001b[0m     valid_sets\u001b[39m=\u001b[39mlgb_eval,\n\u001b[0;32m     <a href='vscode-notebook-cell:/c%3A/Users/admin/dlgksk/House_Peices/data.ipynb#Y266sZmlsZQ%3D%3D?line=17'>18</a>\u001b[0m     num_boost_round\u001b[39m=\u001b[39m\u001b[39m100\u001b[39m,\n\u001b[0;32m     <a href='vscode-notebook-cell:/c%3A/Users/admin/dlgksk/House_Peices/data.ipynb#Y266sZmlsZQ%3D%3D?line=18'>19</a>\u001b[0m     early_stopping_rounds\u001b[39m=\u001b[39m\u001b[39m20\u001b[39m,\n\u001b[0;32m     <a href='vscode-notebook-cell:/c%3A/Users/admin/dlgksk/House_Peices/data.ipynb#Y266sZmlsZQ%3D%3D?line=19'>20</a>\u001b[0m     verbose_eval\u001b[39m=\u001b[39m\u001b[39m10\u001b[39m,\n\u001b[0;32m     <a href='vscode-notebook-cell:/c%3A/Users/admin/dlgksk/House_Peices/data.ipynb#Y266sZmlsZQ%3D%3D?line=20'>21</a>\u001b[0m )\n\u001b[0;32m     <a href='vscode-notebook-cell:/c%3A/Users/admin/dlgksk/House_Peices/data.ipynb#Y266sZmlsZQ%3D%3D?line=22'>23</a>\u001b[0m y_pred \u001b[39m=\u001b[39m model_lgb\u001b[39m.\u001b[39mpredict(X_valid, num_iteration\u001b[39m=\u001b[39mmodel_lgb\u001b[39m.\u001b[39mbest_iteration)\n\u001b[0;32m     <a href='vscode-notebook-cell:/c%3A/Users/admin/dlgksk/House_Peices/data.ipynb#Y266sZmlsZQ%3D%3D?line=23'>24</a>\u001b[0m tmp_rmse \u001b[39m=\u001b[39m np\u001b[39m.\u001b[39msqrt(mean_squared_error(y_valid, y_pred))\n",
      "\u001b[1;31mTypeError\u001b[0m: train() got an unexpected keyword argument 'early_stopping_rounds'"
     ]
    }
   ],
   "source": [
    "models = []\n",
    "rmses = []\n",
    "oof = np.zeros(len(train_X))\n",
    "\n",
    "for train_index, val_index in kf.split(train_X):\n",
    "    X_train = train_X.iloc[train_index]\n",
    "    X_valid = train_X.iloc[val_index]\n",
    "    y_train = train_Y.iloc[train_index]\n",
    "    y_valid = train_Y.iloc[val_index]\n",
    "\n",
    "    lgb_train = lgb.Dataset(X_train, y_train)\n",
    "    lgb_eval = lgb.Dataset(X_valid, y_valid, reference=lgb_train)\n",
    "\n",
    "    model_lgb = lgb.train(\n",
    "        lgbm_params,\n",
    "        lgb_train,\n",
    "        valid_sets=lgb_eval,\n",
    "        num_boost_round=100,\n",
    "        early_stopping_rounds=20,\n",
    "        verbose_eval=10,\n",
    "    )\n",
    "\n",
    "    y_pred = model_lgb.predict(X_valid, num_iteration=model_lgb.best_iteration)\n",
    "    tmp_rmse = np.sqrt(mean_squared_error(y_valid, y_pred))\n",
    "    print(tmp_rmse)\n",
    "\n",
    "    models.append(model_lgb)\n",
    "    rmses.append(tmp_rmse)\n",
    "    oof[val_index] = y_pred"
   ]
  },
  {
   "cell_type": "code",
   "execution_count": 182,
   "metadata": {},
   "outputs": [
    {
     "ename": "IndexError",
     "evalue": "list index out of range",
     "output_type": "error",
     "traceback": [
      "\u001b[1;31m---------------------------------------------------------------------------\u001b[0m",
      "\u001b[1;31mIndexError\u001b[0m                                Traceback (most recent call last)",
      "\u001b[1;32mc:\\Users\\admin\\dlgksk\\House_Peices\\data.ipynb Cell 86\u001b[0m line \u001b[0;36m1\n\u001b[1;32m----> <a href='vscode-notebook-cell:/c%3A/Users/admin/dlgksk/House_Peices/data.ipynb#Y300sZmlsZQ%3D%3D?line=0'>1</a>\u001b[0m result \u001b[39m=\u001b[39m models[\u001b[39m2\u001b[39m]\u001b[39m.\u001b[39mpredict(test_df_le\u001b[39m.\u001b[39mdrop([\u001b[39m\"\u001b[39m\u001b[39mSalePrice\u001b[39m\u001b[39m\"\u001b[39m, \u001b[39m\"\u001b[39m\u001b[39mId\u001b[39m\u001b[39m\"\u001b[39m], axis\u001b[39m=\u001b[39m\u001b[39m1\u001b[39m))\n\u001b[0;32m      <a href='vscode-notebook-cell:/c%3A/Users/admin/dlgksk/House_Peices/data.ipynb#Y300sZmlsZQ%3D%3D?line=1'>2</a>\u001b[0m submission[\u001b[39m\"\u001b[39m\u001b[39mSalePrice\u001b[39m\u001b[39m\"\u001b[39m] \u001b[39m=\u001b[39m np\u001b[39m.\u001b[39mexp(result)\n\u001b[0;32m      <a href='vscode-notebook-cell:/c%3A/Users/admin/dlgksk/House_Peices/data.ipynb#Y300sZmlsZQ%3D%3D?line=2'>3</a>\u001b[0m submission\u001b[39m.\u001b[39mto_csv(\u001b[39m\"\u001b[39m\u001b[39m./submit/submission04.csv\u001b[39m\u001b[39m\"\u001b[39m, index\u001b[39m=\u001b[39m\u001b[39mFalse\u001b[39;00m)\n",
      "\u001b[1;31mIndexError\u001b[0m: list index out of range"
     ]
    }
   ],
   "source": [
    "result = models[2].predict(test_df_le.drop([\"SalePrice\", \"Id\"], axis=1))\n",
    "submission[\"SalePrice\"] = np.exp(result)\n",
    "submission.to_csv(\"./submit/submission04.csv\", index=False)"
   ]
  },
  {
   "cell_type": "code",
   "execution_count": 183,
   "metadata": {},
   "outputs": [
    {
     "ename": "ModuleNotFoundError",
     "evalue": "No module named 'optuna'",
     "output_type": "error",
     "traceback": [
      "\u001b[1;31m---------------------------------------------------------------------------\u001b[0m",
      "\u001b[1;31mModuleNotFoundError\u001b[0m                       Traceback (most recent call last)",
      "\u001b[1;32mc:\\Users\\admin\\dlgksk\\House_Peices\\data.ipynb Cell 87\u001b[0m line \u001b[0;36m1\n\u001b[1;32m----> <a href='vscode-notebook-cell:/c%3A/Users/admin/dlgksk/House_Peices/data.ipynb#Y301sZmlsZQ%3D%3D?line=0'>1</a>\u001b[0m \u001b[39mimport\u001b[39;00m \u001b[39moptuna\u001b[39;00m\n",
      "\u001b[1;31mModuleNotFoundError\u001b[0m: No module named 'optuna'"
     ]
    }
   ],
   "source": [
    "\n",
    "import optuna"
   ]
  },
  {
   "cell_type": "code",
   "execution_count": 184,
   "metadata": {},
   "outputs": [],
   "source": [
    "from sklearn.model_selection import train_test_split\n",
    "\n",
    "X_train, X_valid, y_train, y_valid = train_test_split(\n",
    "    train_X, train_Y, test_size=0.2, random_state=1234, shuffle=True, stratify=None\n",
    ")"
   ]
  },
  {
   "cell_type": "code",
   "execution_count": 185,
   "metadata": {},
   "outputs": [],
   "source": [
    "def objective(trial):\n",
    "    params = {\n",
    "        \"objective\": \"regression\",\n",
    "        \"random_seed\": 1234,\n",
    "        \"learning_rate\": 0.1,\n",
    "        \"n_estimators\": 100,\n",
    "        \"num_leaves\": trial.suggest_int(\"num_leaves\", 4, 64),\n",
    "        \"max_bin\": trial.suggest_int(\"max_bin\", 50, 200),\n",
    "        \"bagging_fraction\": trial.suggest_discrete_uniform(\n",
    "            \"bagging_fraction\", 0.4, 0.9, 0.1\n",
    "        ),\n",
    "        \"bagging_freq\": trial.suggest_int(\"bagging_freq\", 1, 10),\n",
    "        \"feature_fraction\": trial.suggest_discrete_uniform(\n",
    "            \"feature_fraction\", 0.4, 0.9, 0.1\n",
    "        ),\n",
    "        \"min_data_in_leaf\": trial.suggest_int(\"min_data_in_leaf\", 2, 16),\n",
    "        \"min_sum_hessian_in_leaf\": trial.suggest_int(\"min_sum_hessian_in_leaf\", 1, 10),\n",
    "    }\n",
    "\n",
    "    lgb_train = lgb.Dataset(X_train, y_train)\n",
    "    lgb_eval = lgb.Dataset(X_valid, y_valid, reference=lgb_train)\n",
    "\n",
    "    model_lgb = lgb.train(\n",
    "        params,\n",
    "        lgb_train,\n",
    "        valid_sets=lgb_eval,\n",
    "        num_boost_round=100,\n",
    "        early_stopping_rounds=20,\n",
    "        verbose_eval=10,\n",
    "    )\n",
    "\n",
    "    y_pred = model_lgb.predict(X_valid, num_iteration=model_lgb.best_iteration)\n",
    "    score = np.sqrt(mean_squared_error(y_valid, y_pred))\n",
    "    return score"
   ]
  },
  {
   "cell_type": "code",
   "execution_count": 186,
   "metadata": {},
   "outputs": [
    {
     "ename": "NameError",
     "evalue": "name 'optuna' is not defined",
     "output_type": "error",
     "traceback": [
      "\u001b[1;31m---------------------------------------------------------------------------\u001b[0m",
      "\u001b[1;31mNameError\u001b[0m                                 Traceback (most recent call last)",
      "\u001b[1;32mc:\\Users\\admin\\dlgksk\\House_Peices\\data.ipynb Cell 90\u001b[0m line \u001b[0;36m1\n\u001b[1;32m----> <a href='vscode-notebook-cell:/c%3A/Users/admin/dlgksk/House_Peices/data.ipynb#Y311sZmlsZQ%3D%3D?line=0'>1</a>\u001b[0m study \u001b[39m=\u001b[39m optuna\u001b[39m.\u001b[39mcreate_study(sampler\u001b[39m=\u001b[39moptuna\u001b[39m.\u001b[39msamplers\u001b[39m.\u001b[39mRandomSampler(seed\u001b[39m=\u001b[39m\u001b[39m0\u001b[39m))\n\u001b[0;32m      <a href='vscode-notebook-cell:/c%3A/Users/admin/dlgksk/House_Peices/data.ipynb#Y311sZmlsZQ%3D%3D?line=1'>2</a>\u001b[0m study\u001b[39m.\u001b[39moptimize(objective, n_trials\u001b[39m=\u001b[39m\u001b[39m50\u001b[39m)\n\u001b[0;32m      <a href='vscode-notebook-cell:/c%3A/Users/admin/dlgksk/House_Peices/data.ipynb#Y311sZmlsZQ%3D%3D?line=2'>3</a>\u001b[0m study\u001b[39m.\u001b[39mbest_params\n",
      "\u001b[1;31mNameError\u001b[0m: name 'optuna' is not defined"
     ]
    }
   ],
   "source": [
    "study = optuna.create_study(sampler=optuna.samplers.RandomSampler(seed=0))\n",
    "study.optimize(objective, n_trials=50)\n",
    "study.best_params"
   ]
  },
  {
   "cell_type": "code",
   "execution_count": 187,
   "metadata": {},
   "outputs": [],
   "source": [
    "lgbm_params = {\n",
    "    \"objective\": \"regression\",\n",
    "    \"random_seed\": 1234,\n",
    "    \"learning_rate\": 0.05,\n",
    "    \"n_estimators\": 1000,\n",
    "    \"num_leaves\": 29,\n",
    "    \"bagging_fraction\": 0.8,\n",
    "    \"bagging_freq\": 7,\n",
    "    \"feature_fraction\": 0.5,\n",
    "    \"max_bin\": 82,\n",
    "    \"min_data_in_leaf\": 4,\n",
    "    \"min_sum_hessian_in_leaf\": 5,\n",
    "}"
   ]
  },
  {
   "cell_type": "code",
   "execution_count": 188,
   "metadata": {},
   "outputs": [],
   "source": [
    "train_df_le = all_df[~all_df[\"SalePrice\"].isnull()]\n",
    "test_df_le = all_df[all_df[\"SalePrice\"].isnull()]\n",
    "\n",
    "train_df_le[\"SalePrice_log\"] = np.log(train_df_le[\"SalePrice\"])\n",
    "train_X = train_df_le.drop([\"SalePrice\", \"SalePrice_log\", \"Id\"], axis=1)\n",
    "train_Y = train_df_le[\"SalePrice_log\"]"
   ]
  },
  {
   "cell_type": "code",
   "execution_count": 189,
   "metadata": {},
   "outputs": [
    {
     "ename": "TypeError",
     "evalue": "train() got an unexpected keyword argument 'early_stopping_rounds'",
     "output_type": "error",
     "traceback": [
      "\u001b[1;31m---------------------------------------------------------------------------\u001b[0m",
      "\u001b[1;31mTypeError\u001b[0m                                 Traceback (most recent call last)",
      "\u001b[1;32mc:\\Users\\admin\\dlgksk\\House_Peices\\data.ipynb Cell 93\u001b[0m line \u001b[0;36m1\n\u001b[0;32m     <a href='vscode-notebook-cell:/c%3A/Users/admin/dlgksk/House_Peices/data.ipynb#Y314sZmlsZQ%3D%3D?line=10'>11</a>\u001b[0m lgb_train \u001b[39m=\u001b[39m lgb\u001b[39m.\u001b[39mDataset(X_train, y_train)\n\u001b[0;32m     <a href='vscode-notebook-cell:/c%3A/Users/admin/dlgksk/House_Peices/data.ipynb#Y314sZmlsZQ%3D%3D?line=11'>12</a>\u001b[0m lgb_eval \u001b[39m=\u001b[39m lgb\u001b[39m.\u001b[39mDataset(X_valid, y_valid, reference\u001b[39m=\u001b[39mlgb_train)\n\u001b[1;32m---> <a href='vscode-notebook-cell:/c%3A/Users/admin/dlgksk/House_Peices/data.ipynb#Y314sZmlsZQ%3D%3D?line=13'>14</a>\u001b[0m model_lgb \u001b[39m=\u001b[39m lgb\u001b[39m.\u001b[39mtrain(\n\u001b[0;32m     <a href='vscode-notebook-cell:/c%3A/Users/admin/dlgksk/House_Peices/data.ipynb#Y314sZmlsZQ%3D%3D?line=14'>15</a>\u001b[0m     lgbm_params,\n\u001b[0;32m     <a href='vscode-notebook-cell:/c%3A/Users/admin/dlgksk/House_Peices/data.ipynb#Y314sZmlsZQ%3D%3D?line=15'>16</a>\u001b[0m     lgb_train,\n\u001b[0;32m     <a href='vscode-notebook-cell:/c%3A/Users/admin/dlgksk/House_Peices/data.ipynb#Y314sZmlsZQ%3D%3D?line=16'>17</a>\u001b[0m     valid_sets\u001b[39m=\u001b[39mlgb_eval,\n\u001b[0;32m     <a href='vscode-notebook-cell:/c%3A/Users/admin/dlgksk/House_Peices/data.ipynb#Y314sZmlsZQ%3D%3D?line=17'>18</a>\u001b[0m     num_boost_round\u001b[39m=\u001b[39m\u001b[39m100\u001b[39m,\n\u001b[0;32m     <a href='vscode-notebook-cell:/c%3A/Users/admin/dlgksk/House_Peices/data.ipynb#Y314sZmlsZQ%3D%3D?line=18'>19</a>\u001b[0m     early_stopping_rounds\u001b[39m=\u001b[39m\u001b[39m20\u001b[39m,\n\u001b[0;32m     <a href='vscode-notebook-cell:/c%3A/Users/admin/dlgksk/House_Peices/data.ipynb#Y314sZmlsZQ%3D%3D?line=19'>20</a>\u001b[0m     verbose_eval\u001b[39m=\u001b[39m\u001b[39m10\u001b[39m,\n\u001b[0;32m     <a href='vscode-notebook-cell:/c%3A/Users/admin/dlgksk/House_Peices/data.ipynb#Y314sZmlsZQ%3D%3D?line=20'>21</a>\u001b[0m )\n\u001b[0;32m     <a href='vscode-notebook-cell:/c%3A/Users/admin/dlgksk/House_Peices/data.ipynb#Y314sZmlsZQ%3D%3D?line=22'>23</a>\u001b[0m y_pred \u001b[39m=\u001b[39m model_lgb\u001b[39m.\u001b[39mpredict(X_valid, num_iteration\u001b[39m=\u001b[39mmodel_lgb\u001b[39m.\u001b[39mbest_iteration)\n\u001b[0;32m     <a href='vscode-notebook-cell:/c%3A/Users/admin/dlgksk/House_Peices/data.ipynb#Y314sZmlsZQ%3D%3D?line=23'>24</a>\u001b[0m tmp_rmse \u001b[39m=\u001b[39m np\u001b[39m.\u001b[39msqrt(mean_squared_error(y_valid, y_pred))\n",
      "\u001b[1;31mTypeError\u001b[0m: train() got an unexpected keyword argument 'early_stopping_rounds'"
     ]
    }
   ],
   "source": [
    "models = []\n",
    "rmses = []\n",
    "oof = np.zeros(len(train_X))\n",
    "\n",
    "for train_index, val_index in kf.split(train_X):\n",
    "    X_train = train_X.iloc[train_index]\n",
    "    X_valid = train_X.iloc[val_index]\n",
    "    y_train = train_Y.iloc[train_index]\n",
    "    y_valid = train_Y.iloc[val_index]\n",
    "\n",
    "    lgb_train = lgb.Dataset(X_train, y_train)\n",
    "    lgb_eval = lgb.Dataset(X_valid, y_valid, reference=lgb_train)\n",
    "\n",
    "    model_lgb = lgb.train(\n",
    "        lgbm_params,\n",
    "        lgb_train,\n",
    "        valid_sets=lgb_eval,\n",
    "        num_boost_round=100,\n",
    "        early_stopping_rounds=20,\n",
    "        verbose_eval=10,\n",
    "    )\n",
    "\n",
    "    y_pred = model_lgb.predict(X_valid, num_iteration=model_lgb.best_iteration)\n",
    "    tmp_rmse = np.sqrt(mean_squared_error(y_valid, y_pred))\n",
    "    print(tmp_rmse)\n",
    "\n",
    "    models.append(model_lgb)\n",
    "    rmses.append(tmp_rmse)\n",
    "    oof[val_index] = y_pred"
   ]
  },
  {
   "cell_type": "code",
   "execution_count": 190,
   "metadata": {},
   "outputs": [
    {
     "ename": "ZeroDivisionError",
     "evalue": "division by zero",
     "output_type": "error",
     "traceback": [
      "\u001b[1;31m---------------------------------------------------------------------------\u001b[0m",
      "\u001b[1;31mZeroDivisionError\u001b[0m                         Traceback (most recent call last)",
      "\u001b[1;32mc:\\Users\\admin\\dlgksk\\House_Peices\\data.ipynb Cell 94\u001b[0m line \u001b[0;36m1\n\u001b[1;32m----> <a href='vscode-notebook-cell:/c%3A/Users/admin/dlgksk/House_Peices/data.ipynb#Y303sZmlsZQ%3D%3D?line=0'>1</a>\u001b[0m \u001b[39msum\u001b[39m(rmses) \u001b[39m/\u001b[39m \u001b[39mlen\u001b[39m(rmses)\n",
      "\u001b[1;31mZeroDivisionError\u001b[0m: division by zero"
     ]
    }
   ],
   "source": [
    "sum(rmses) / len(rmses)"
   ]
  },
  {
   "cell_type": "code",
   "execution_count": 191,
   "metadata": {},
   "outputs": [],
   "source": [
    "\n",
    "test_X = test_df_le.drop([\"SalePrice\", \"Id\"], axis=1)"
   ]
  },
  {
   "cell_type": "code",
   "execution_count": 192,
   "metadata": {},
   "outputs": [],
   "source": [
    "preds = []\n",
    "\n",
    "for model in models:\n",
    "    pred = model.predict(test_X)\n",
    "    preds.append(pred)"
   ]
  },
  {
   "cell_type": "code",
   "execution_count": 193,
   "metadata": {},
   "outputs": [],
   "source": [
    "preds_array = np.array(preds)\n",
    "preds_mean = np.mean(preds_array, axis=0)"
   ]
  },
  {
   "cell_type": "code",
   "execution_count": 194,
   "metadata": {},
   "outputs": [],
   "source": [
    "preds_exp = np.exp(preds_mean)"
   ]
  },
  {
   "cell_type": "code",
   "execution_count": 195,
   "metadata": {},
   "outputs": [
    {
     "ename": "TypeError",
     "evalue": "object of type 'numpy.float64' has no len()",
     "output_type": "error",
     "traceback": [
      "\u001b[1;31m---------------------------------------------------------------------------\u001b[0m",
      "\u001b[1;31mTypeError\u001b[0m                                 Traceback (most recent call last)",
      "\u001b[1;32mc:\\Users\\admin\\dlgksk\\House_Peices\\data.ipynb Cell 99\u001b[0m line \u001b[0;36m1\n\u001b[1;32m----> <a href='vscode-notebook-cell:/c%3A/Users/admin/dlgksk/House_Peices/data.ipynb#Y316sZmlsZQ%3D%3D?line=0'>1</a>\u001b[0m \u001b[39mlen\u001b[39m(preds_exp)\n",
      "\u001b[1;31mTypeError\u001b[0m: object of type 'numpy.float64' has no len()"
     ]
    }
   ],
   "source": [
    "len(preds_exp)"
   ]
  },
  {
   "cell_type": "code",
   "execution_count": 196,
   "metadata": {},
   "outputs": [],
   "source": [
    "submission[\"SalePrice\"] = preds_exp"
   ]
  },
  {
   "cell_type": "code",
   "execution_count": 197,
   "metadata": {},
   "outputs": [],
   "source": [
    "submission.to_csv(\"./submit/submission05.csv\", index=False)"
   ]
  },
  {
   "cell_type": "code",
   "execution_count": null,
   "metadata": {},
   "outputs": [],
   "source": []
  },
  {
   "cell_type": "code",
   "execution_count": null,
   "metadata": {},
   "outputs": [],
   "source": []
  },
  {
   "cell_type": "code",
   "execution_count": null,
   "metadata": {},
   "outputs": [],
   "source": []
  },
  {
   "cell_type": "code",
   "execution_count": null,
   "metadata": {},
   "outputs": [],
   "source": []
  },
  {
   "cell_type": "code",
   "execution_count": null,
   "metadata": {},
   "outputs": [],
   "source": []
  },
  {
   "cell_type": "code",
   "execution_count": null,
   "metadata": {},
   "outputs": [],
   "source": []
  },
  {
   "cell_type": "code",
   "execution_count": null,
   "metadata": {},
   "outputs": [],
   "source": []
  },
  {
   "cell_type": "code",
   "execution_count": null,
   "metadata": {},
   "outputs": [],
   "source": []
  },
  {
   "cell_type": "code",
   "execution_count": null,
   "metadata": {},
   "outputs": [],
   "source": []
  }
 ],
 "metadata": {
  "kernelspec": {
   "display_name": "Python 3",
   "language": "python",
   "name": "python3"
  },
  "language_info": {
   "codemirror_mode": {
    "name": "ipython",
    "version": 3
   },
   "file_extension": ".py",
   "mimetype": "text/x-python",
   "name": "python",
   "nbconvert_exporter": "python",
   "pygments_lexer": "ipython3",
   "version": "3.11.4"
  }
 },
 "nbformat": 4,
 "nbformat_minor": 2
}
