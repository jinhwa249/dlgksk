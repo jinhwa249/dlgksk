{
 "cells": [
  {
   "cell_type": "code",
   "execution_count": null,
   "metadata": {},
   "outputs": [],
   "source": [
    "from sklearn.ensemble import RandomForestRegressor as rf"
   ]
  },
  {
   "cell_type": "code",
   "execution_count": null,
   "metadata": {},
   "outputs": [],
   "source": [
    "%matplotlib inline\n",
    "import matplotlib.pyplot as plt\n",
    "import numpy as np\n",
    "import pandas as pd\n",
    "import seaborn as sns\n",
    "import random\n",
    "\n",
    "plt.style.use(style='ggplot')\n",
    "np.random.seed(1234)\n",
    "random.seed(1234)"
   ]
  },
  {
   "cell_type": "code",
   "execution_count": null,
   "metadata": {},
   "outputs": [],
   "source": [
    "train_df = pd.read_csv(\"./data/train.csv\")\n",
    "test_df = pd.read_csv(\"./data/test.csv\")\n",
    "submission = pd.read_csv(\"./data/sample_submission.csv\")"
   ]
  },
  {
   "cell_type": "code",
   "execution_count": null,
   "metadata": {},
   "outputs": [],
   "source": [
    "all_df = pd.concat([train_df, test_df], axis=0, sort=False).reset_index(drop=True)"
   ]
  },
  {
   "cell_type": "code",
   "execution_count": null,
   "metadata": {},
   "outputs": [],
   "source": [
    "from sklearn.preprocessing import LabelEncoder\n",
    "\n",
    "categories = all_df.columns[all_df.dtypes == \"object\"]\n",
    "print(categories)\n",
    "print(len(categories))"
   ]
  },
  {
   "cell_type": "code",
   "execution_count": null,
   "metadata": {},
   "outputs": [],
   "source": [
    "for cat in categories:\n",
    "    le = LabelEncoder()\n",
    "    all_df[cat].fillna(\"missing\", inplace=True)\n",
    "    le = le.fit(all_df[cat])\n",
    "    all_df[cat] = le.transform(all_df[cat])\n",
    "    all_df[cat] = all_df[cat].astype(\"category\")"
   ]
  },
  {
   "cell_type": "code",
   "execution_count": null,
   "metadata": {},
   "outputs": [],
   "source": [
    "all_df[\"TotalSF\"] = all_df[\"TotalBsmtSF\"] + all_df[\"1stFlrSF\"] + all_df[\"2ndFlrSF\"]\n",
    "all_df[\"Total_bathrooms\"] = (\n",
    "    all_df[\"FullBath\"]\n",
    "    + all_df[\"HalfBath\"]\n",
    "    + all_df[\"BsmtFullBath\"]\n",
    "    + all_df[\"BsmtHalfBath\"]\n",
    ")"
   ]
  },
  {
   "cell_type": "code",
   "execution_count": null,
   "metadata": {},
   "outputs": [],
   "source": [
    "hasnan_cat = []\n",
    "for col in all_df.columns:\n",
    "    tmp_null_count = all_df[col].isnull().sum()\n",
    "    if (tmp_null_count > 0) & (col != \"SalePrice\"):\n",
    "        hasnan_cat.append(col)\n",
    "        print(col, tmp_null_count)"
   ]
  },
  {
   "cell_type": "code",
   "execution_count": null,
   "metadata": {},
   "outputs": [],
   "source": [
    "all_df[hasnan_cat].describe()"
   ]
  },
  {
   "cell_type": "code",
   "execution_count": null,
   "metadata": {},
   "outputs": [],
   "source": [
    "for col in all_df.columns:\n",
    "    tmp_null_count = all_df[col].isnull().sum()\n",
    "    if (tmp_null_count > 0) & (col != \"SalePrice\"):\n",
    "        print(col, tmp_null_count)\n",
    "        all_df[col].fillna(all_df[col].median(), inplace=True)"
   ]
  },
  {
   "cell_type": "code",
   "execution_count": null,
   "metadata": {},
   "outputs": [],
   "source": [
    "train_df_le = all_df[~all_df[\"SalePrice\"].isnull()]\n",
    "test_df_le = all_df[all_df[\"SalePrice\"].isnull()]\n",
    "\n",
    "train_df_le[\"SalePrice_log\"] = np.log(train_df_le[\"SalePrice\"])\n",
    "train_X = train_df_le.drop([\"SalePrice\", \"SalePrice_log\", \"Id\"], axis=1)\n",
    "train_Y = train_df_le[\"SalePrice_log\"]"
   ]
  },
  {
   "cell_type": "code",
   "execution_count": null,
   "metadata": {},
   "outputs": [],
   "source": [
    "from sklearn.model_selection import KFold\n",
    "\n",
    "folds = 3\n",
    "kf = KFold(n_splits=folds)"
   ]
  },
  {
   "cell_type": "code",
   "execution_count": null,
   "metadata": {},
   "outputs": [],
   "source": [
    "from pyexpat import model\n",
    "from sklearn.metrics import mean_squared_error\n",
    "\n",
    "models_rf = []\n",
    "rmses_rf = []\n",
    "oof_rf = np.zeros(len(train_X))\n",
    "\n",
    "for train_index, val_index in kf.split(train_X):\n",
    "    X_train = train_X.iloc[train_index]\n",
    "    X_vaild = train_X.iloc[val_index]\n",
    "    y_train = train_Y.iloc[train_index]\n",
    "    y_valid = train_Y.iloc[val_index]\n",
    "    model_rf = rf(n_estimators=50, random_state=1234)\n",
    "    model_rf.fit(X_train, y_train)\n",
    "    y_pred = model_rf.predict(X_vaild)\n",
    "    tmp_rmse = np.sqrt(mean_squared_error(y_valid, y_pred))\n",
    "    print(tmp_rmse)\n",
    "    models_rf.append(model_rf)\n",
    "    rmses_rf.append(tmp_rmse)\n",
    "    oof_rf[val_index] = y_pred"
   ]
  },
  {
   "cell_type": "code",
   "execution_count": null,
   "metadata": {},
   "outputs": [],
   "source": [
    "sum(rmses_rf) / len(rmses_rf)"
   ]
  },
  {
   "cell_type": "code",
   "execution_count": null,
   "metadata": {},
   "outputs": [],
   "source": [
    "test_X = test_df_le.drop([\"SalePrice\", \"Id\"], axis=1)"
   ]
  },
  {
   "cell_type": "code",
   "execution_count": null,
   "metadata": {},
   "outputs": [],
   "source": [
    "preds_rf = []\n",
    "for model in models_rf:\n",
    "    pred = model.predict(test_X)\n",
    "    preds_rf.append(pred)"
   ]
  },
  {
   "cell_type": "code",
   "execution_count": null,
   "metadata": {},
   "outputs": [],
   "source": [
    "\n",
    "preds_array_rf = np.array(preds_rf)\n",
    "preds_mean_rf = np.mean(preds_array_rf, axis=0)\n",
    "preds_exp_rf = np.exp(preds_mean_rf)\n",
    "submission[\"SalePrice\"] = preds_exp_rf"
   ]
  },
  {
   "cell_type": "code",
   "execution_count": null,
   "metadata": {},
   "outputs": [],
   "source": [
    "submission.to_csv(\"./submit/submission_rf.csv\", index=False)"
   ]
  },
  {
   "cell_type": "code",
   "execution_count": null,
   "metadata": {},
   "outputs": [],
   "source": []
  },
  {
   "cell_type": "code",
   "execution_count": null,
   "metadata": {},
   "outputs": [],
   "source": []
  },
  {
   "cell_type": "code",
   "execution_count": null,
   "metadata": {},
   "outputs": [],
   "source": []
  },
  {
   "cell_type": "code",
   "execution_count": null,
   "metadata": {},
   "outputs": [],
   "source": []
  },
  {
   "cell_type": "code",
   "execution_count": null,
   "metadata": {},
   "outputs": [],
   "source": []
  },
  {
   "cell_type": "code",
   "execution_count": null,
   "metadata": {},
   "outputs": [],
   "source": []
  },
  {
   "cell_type": "code",
   "execution_count": null,
   "metadata": {},
   "outputs": [],
   "source": []
  },
  {
   "cell_type": "code",
   "execution_count": null,
   "metadata": {},
   "outputs": [],
   "source": []
  },
  {
   "cell_type": "code",
   "execution_count": null,
   "metadata": {},
   "outputs": [],
   "source": []
  },
  {
   "cell_type": "code",
   "execution_count": null,
   "metadata": {},
   "outputs": [],
   "source": []
  },
  {
   "cell_type": "code",
   "execution_count": null,
   "metadata": {},
   "outputs": [],
   "source": []
  }
 ],
 "metadata": {
  "language_info": {
   "name": "python"
  }
 },
 "nbformat": 4,
 "nbformat_minor": 2
}
